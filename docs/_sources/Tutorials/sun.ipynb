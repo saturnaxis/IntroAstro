{
 "cells": [
  {
   "cell_type": "markdown",
   "metadata": {},
   "source": [
    "# The Sun"
   ]
  },
  {
   "cell_type": "markdown",
   "metadata": {},
   "source": [
    "## The Source of the Sun's Energy\n",
    "\n",
    "The Sun will not last forever, where its lifetime is limited by the amount of fuel available.  We can calculate how long the Sun will live by comparing the mass available for nuclear fusion and the total mass available.\n",
    "\n",
    "```{note}\n",
    "In other chapters, we could use ratios to simplify the mathematics.  Unfortunately, this won't be the case here.  It may be helpful for you to review the topics in [Chapter 1](https://saturnaxis.github.io/IntroAstro/Tutorials/thinking-like-astronomer.html), specifically for scientific notation and/or how to use the `EE` button on your calculator.\n",
    "```\n",
    "\n",
    "Some mass is lost when converting four hydrogen nuclei (i.e., protons) into a single helium nucleus.  The mass lost is converted into energy.  First, let's do some accounting:\n",
    "\n",
    "1. $m_{\\rm H} = 1.6726 \\times 10^{-27}\\ {\\rm kg}$; mass of a single proton\n",
    "2. $m_{\\rm He} = 6.6447 \\times 10^{-27}\\ {\\rm kg}$; mass of a single helium-4 nucleus\n",
    "\n",
    "Assuming no mass loss, we expect that $4m_{\\rm H} = m_{\\rm He}$.  Instead, we must consider the mass lost $m$ by\n",
    "\n",
    "\\begin{align}\n",
    "4m_{\\rm H} &= m_{\\rm He} + m, \\\\\n",
    "m &= 4m_{\\rm H} - m_{\\rm He}, \\\\\n",
    "m&= 4(1.6726\\times 10^{-27}\\ {\\rm kg}) - 6.6447\\times 10^{-27}\\ {\\rm kg},\\\\\n",
    "m &= 0.0457 \\times 10^{-27}\\ {\\rm kg} = 4.58\\times 10^{-29}\\ {\\rm kg}.\n",
    "\\end{align}\n",
    "\n",
    "We can calculate the mass loss as $m/(4m_{\\rm H}) = 0.0068$, or about $0.7\\%$.  The seems like a small amount, but the Sun has lots of atoms. Fusing a single kilogram of hydrogen into helium releases about $6.3\\times 10^{14}\\ {\\rm J}$ of energy.  To see how much the Sun must be fusing each second to produce its current luminosity, we compare the energy used per time with the energy used per mass, or \n",
    "\n",
    "\\begin{align}\n",
    "\\frac{\\text{Luminosity of Sun}}{\\text{Energy per kilogram}} = \\frac{3.9\\times 10^{26}\\ {\\rm J/s}}{6.3\\times 10^{14}\\ {\\rm J/kg}} = 6.2\\times 10^{11}\\ {\\rm kg/s}.\n",
    "\\end{align}\n",
    "\n",
    "This is about $620$ billion $\\rm kg$ of hydrogen converted into helium each second, where $0.7\\%$ of it (${\\sim}4$ billion $\\rm kg$) is converted to energy in the process.\n",
    "\n",
    "**How much longer will the Sun last?**\n",
    "Astronomers estimate that only $10\\%$ of the Sun's mass is available for fusion because the other $90\\%$ will never get hot (or dense) enough for fusion to occur.  The total mass of the Sun is $1.989 \\times 10^{30}\\ {\\rm kg}$, so only $1.989 \\times 10^{29}\\ {\\rm kg}$ is available for fusion.\n",
    "\n",
    "Let's estimate how much mass $M_{\\rm year}$ the Sun consumes in a year using the mass loss that we calculated above.  This is written as\n",
    "\n",
    "\\begin{align}\n",
    "M_{\\rm year} = \\left(\\frac{6.2\\times 10^{11}\\ {\\rm kg}}{1 \\rm s}\\right)\\times \\left(\\frac{3.16 \\times 10^7\\ {\\rm s}}{1\\ {\\rm yr}}\\right) = 2.0 \\times 10^{19}\\ \\frac{\\rm kg}{\\rm yr}.\n",
    "\\end{align}\n",
    "\n",
    "If we know how much fuel the Sun has ($1.989 \\times 10^{29}\\ {\\rm kg}$) and we know how much the Sun fuses each year ($2.0 \\times 10^{19}\\ {\\rm kg/yr}$), we can divide the the total amount by the amount used per yeare to find the lifetime $\\tau$ of the Sun:\n",
    "\n",
    "\\begin{align}\n",
    "\\tau &= \\frac{M_{\\rm fuel}}{M_{\\rm year}} = \\frac{1.989 \\times 10^{29}\\ {\\rm kg}}{2.0\\times 10^{19}\\ {\\rm kg/yr}}, \\\\\n",
    "&= 9.9 \\times 10^9\\ {\\rm yr} \\approx 10^{10}\\ {\\rm yr}.\n",
    "\\end{align}\n",
    "\n",
    "When the Sun formed, it had enough fuel to power it for about $10$ billion years.  The Sun is nearly halfway through its lifetime of hydrogen fusion."
   ]
  },
  {
   "cell_type": "code",
   "execution_count": 11,
   "metadata": {},
   "outputs": [
    {
     "name": "stdout",
     "output_type": "stream",
     "text": [
      "The mass lost that is converted into energy is 4.5788e-29 kg.\n",
      "The mass loss (percentage) is 0.68 percent.\n",
      "------\n",
      "The mass fused per second is 6.1e+11 kg/s.\n",
      "------\n",
      "The mass consumed by the Sun each year is 1.9e+19 kg/yr.\n",
      "The lifetime of the Sun is 1.0e+10 yr.\n"
     ]
    }
   ],
   "source": [
    "#scipy.constants is a library that has common constants in physics/chemistry\n",
    "#https://docs.scipy.org/doc/scipy/reference/constants.html\n",
    "from scipy.constants import m_p, year\n",
    "\n",
    "\n",
    "M_sun = 1.989e30 #mass of the Sun in kg\n",
    "L_sun = 3.828e26 #Luminosity of the Sun in W (or J/s)\n",
    "energy_kg = 6.3e14 #energy released to fuse 1 kg of hydrogen\n",
    "\n",
    "m_He = 6.6447e-27 #mass of a helium nucleus in kg\n",
    "m = 4*m_p - m_He\n",
    "print(\"The mass lost that is converted into energy is %1.4e kg.\" % m)\n",
    "mass_loss = m/(4*m_p) * 100\n",
    "print(\"The mass loss (percentage) is %1.2f percent.\" % mass_loss)\n",
    "print(\"------\")\n",
    "energy_release = L_sun/energy_kg\n",
    "print(\"The mass fused per second is %1.1e kg/s.\" % energy_release)\n",
    "print(\"------\")\n",
    "M_year = energy_release*year \n",
    "print(\"The mass consumed by the Sun each year is %1.1e kg/yr.\" % M_year)\n",
    "\n",
    "M_fuel = 0.1*M_sun \n",
    "tau = M_fuel/M_year \n",
    "print(\"The lifetime of the Sun is %1.1e yr.\" % tau)\n"
   ]
  },
  {
   "cell_type": "markdown",
   "metadata": {},
   "source": [
    "## Sunspots & Temperature\n",
    "\n",
    "Sunspots are ${\\sim}1500\\ {\\rm K}$ cooler than their surroundings.  **What does that lower temperature tell us about their luminosity?**\n",
    "\n",
    "Recall the ratios we used in [Chapter 5](https://docs.scipy.org/doc/scipy/reference/constants.html) to compare how much brighter the Sun is compared to the Earth.  We used a form of the Stefan-Boltzmann law with the flux as\n",
    "\n",
    "$$ \\mathcal{F} = \\sigma T^4. $$\n",
    "\n",
    "We want to compare how the flux of the sunspot with a similar sized section of the its warmer surroundings.  Let's use the ratios again so that we don't have to lookup $\\sigma$.  Comparing the spot to the surface, we have\n",
    "\n",
    "\\begin{align}\n",
    "\\frac{\\mathcal{F}_{\\rm spot}}{\\mathcal{F}_{\\rm surface}} &= \\frac{\\sigma T_{\\rm spot}^4}{\\sigma T_{\\rm surface}^4} = \\left(\\frac{T_{\\rm spot}}{T_{\\rm surface}}\\right)^4, \\\\\n",
    "&= \\left(\\frac{5777\\ {\\rm K} -1500\\ {\\rm K}}{5777\\ {\\rm K}}\\right)^4 = 0.3.\n",
    "\\end{align}\n",
    "\n",
    "Therefore, the flux coming from a sunspot is only $30\\%$ of that coming from the nearby surface (i.e., $\\mathcal{F}_{\\rm spot} = 0.3\\ \\mathcal{F}_{\\rm surface}$).  The sunspot is about $30\\%$ as bright as the surrounding photosphere.  However the sunspot would still be brighter than the full Moon."
   ]
  },
  {
   "cell_type": "code",
   "execution_count": 13,
   "metadata": {},
   "outputs": [
    {
     "name": "stdout",
     "output_type": "stream",
     "text": [
      "The sunspot emits about 0.3 times as much light as the surrounding surface.\n"
     ]
    }
   ],
   "source": [
    "T_surf = 5777 #average surface temperature of the Sun\n",
    "T_spot = T_surf - 1500 #estimate sunspot temperature\n",
    "\n",
    "F_ratio = (T_spot/T_surf)**4\n",
    "print(\"The sunspot emits about %1.1f times as much light as the surrounding surface.\" % F_ratio)"
   ]
  }
 ],
 "metadata": {
  "kernelspec": {
   "display_name": "base",
   "language": "python",
   "name": "python3"
  },
  "language_info": {
   "codemirror_mode": {
    "name": "ipython",
    "version": 3
   },
   "file_extension": ".py",
   "mimetype": "text/x-python",
   "name": "python",
   "nbconvert_exporter": "python",
   "pygments_lexer": "ipython3",
   "version": "3.11.5"
  }
 },
 "nbformat": 4,
 "nbformat_minor": 2
}
