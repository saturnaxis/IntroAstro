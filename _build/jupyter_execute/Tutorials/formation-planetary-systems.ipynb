{
 "cells": [
  {
   "cell_type": "markdown",
   "metadata": {},
   "source": [
    "# The Formation of Planetary Systems"
   ]
  },
  {
   "cell_type": "markdown",
   "metadata": {},
   "source": [
    "## Angular Momentum\n",
    "\n",
    "Recall that linear momentum is the combination of mass $m$ with a velocity $v$ (i.e., $p = m\\times v = mv$).  This mostly described motion along a straight line.  Let's now apply momentum to circular motion, which requires us to consider how a mass moves on a circle of constant radius $r$.  The simplest form is to define the angular momentum $L$ as:\n",
    "\n",
    "\\begin{align}\n",
    "L &= m\\times v\\times r = mvr,\n",
    "\\end{align}\n",
    "\n",
    "which depends on the mass $m$, velocity $v$ and the radius $r$.  Note that the combination of the mass and radius is also referred to as the mass distribution, or how spread out the mass is.\n",
    "\n",
    "The angular momentum is a conserved quantity, which means that initial amount has to equal the final amount.  This is why a figure skater spins faster as she pulls in her arms and slower when she kicks out her leg to land.\n",
    "\n",
    "Let's apply the relationship of angular momentum to Jupiter.  Jupiter is orbiting the Sun and spinning.  Jupiter will have two parts to its angular momentum: orbital and spin. \n"
   ]
  },
  {
   "cell_type": "markdown",
   "metadata": {},
   "source": [
    "\n",
    "### Jupiter's Orbital Angular Momentum\n",
    "Here we're assuming Jupiter to have a circular orbit, although its real orbit is elliptical.  Recall from [Gravity and Orbits](https://saturnaxis.github.io/IntroAstro/Tutorials/gravity-and-orbits.html#gravity-and-orbits) that we determined Jupiter's mass using one of its moons, Europa.  Therefore, we know Jupiter's mass is $9.54 \\times 10^{-4}\\ M_\\odot$.  We also know that Jupiter's semimajor axis is $5.2\\ {\\rm AU}$ (see the [NASA Fact Sheet](https://nssdc.gsfc.nasa.gov/planetary/factsheet/jupiterfact.html)).\n",
    "\n",
    "We can determine Jupiter's orbital speed using the equation for circular velocity, but using our special units of $M_\\odot$, AU, and years.  The circular velocity is then\n",
    "\n",
    "\\begin{align}\n",
    "v_c &= \\sqrt{\\frac{GM}{a}} = \\sqrt{\\frac{GM_\\odot}{a_{Jup}}} = \\sqrt{\\frac{4\\pi^2}{5.2}}, \\\\\n",
    "&= 2.8\\ \\frac{\\rm AU}{\\rm yr}.\n",
    "\\end{align}\n"
   ]
  },
  {
   "cell_type": "code",
   "execution_count": 12,
   "metadata": {},
   "outputs": [
    {
     "name": "stdout",
     "output_type": "stream",
     "text": [
      "The circular velocity of Jupiter is 2.75 AU/yr\n"
     ]
    }
   ],
   "source": [
    "import numpy as np\n",
    "\n",
    "G = 4*np.pi**2 #value for G using Msun, yr, and AU as units\n",
    "a_Jup = 5.204 #semimajor axis of Jupiter in AU\n",
    "M = 1 # solar mass\n",
    "\n",
    "v_c = np.sqrt(G*M/a_Jup)\n",
    "print(\"The circular velocity of Jupiter is %1.3g AU/yr\" % v_c)"
   ]
  },
  {
   "cell_type": "markdown",
   "metadata": {},
   "source": [
    "\n",
    "**Does the above result make sense?**  The circumference of Jupiter's orbit $C_{Jup}$ is $2\\pi\\times (5.2\\ {\\rm AU}) = 32.67\\ {\\rm AU}$ and Jupiter's orbital period $P_{Jup}$ is $11.86\\ {\\rm yr}$.  We can simply divide the circumference by the orbital period to determine the orbital velocity $v_c = C_{Jup}/P_{Jup} = 2.76\\ {\\rm AU/yr}$.  \n",
    "\n",
    "Now we can determine Jupiter's orbital angular momentum $L_{Jup}^{orb}$ as\n",
    "\n",
    "\\begin{align}\n",
    "L_{Jup}^{orb} &= \\left(m v_{c}r\\right)_{Jup} = \\left(9.54\\times 10^{-4}\\ {\\rm M_\\odot} \\right) \\left(2.76\\ {\\rm AU/yr}\\right) \\left(5.2\\ {\\rm AU} \\right), \\\\\n",
    "& = 1.37 \\times 10^{-2}\\ \\frac{M_\\odot\\ \\rm AU^2}{\\rm yr}.\n",
    "\\end{align}"
   ]
  },
  {
   "cell_type": "code",
   "execution_count": 13,
   "metadata": {},
   "outputs": [
    {
     "name": "stdout",
     "output_type": "stream",
     "text": [
      "The angular momentum of Jupiter is: 0.0137 M_sun AU^2/yr.\n"
     ]
    }
   ],
   "source": [
    "import numpy as np\n",
    "\n",
    "M_Jup = 9.54e-4 #mass of Jupiter in solar masses\n",
    "\n",
    "L_Jup = M_Jup * v_c * a_Jup\n",
    "print(\"The angular momentum of Jupiter is: %1.3g M_sun AU^2/yr.\" % L_Jup)"
   ]
  },
  {
   "cell_type": "markdown",
   "metadata": {},
   "source": [
    "This result by itself doesn't give us much context.  Instead of just computing a value, we compare the orbital angular momentum of Earth to Jupiter through a ratio.  We expect Jupiter to have more angular momentum because it's more massive and has a larger orbit.  Therefore we compure the ratio as\n",
    "\n",
    "\\begin{align}\n",
    "\\frac{L_{Jup}^{orb}}{L_{\\oplus}^{orb}} &= \\frac{\\left(m v_{c} r\\right)_{Jup}}{\\left(mv_{c} r \\right)_{\\oplus} }, \\\\\n",
    "&= \\left(\\frac{m_{Jup}}{m_\\oplus}\\right) \\left(\\frac{v_{c,Jup}}{v_{c,\\oplus}}\\right)\\left(\\frac{a_{Jup}}{a_\\oplus}\\right).\n",
    "\\end{align}\n",
    "\n",
    "From the [NASA Fact Sheet](https://nssdc.gsfc.nasa.gov/planetary/factsheet/jupiterfact.html), we know that Jupiter is approximately $317\\ m_\\oplus$, or $317\\times$ more massive than the Earth.  Earth's semimajor axis is $1\\ {\\rm AU}$, and circular velocity is $2\\pi\\ {\\rm AU/yr}$.  By substitution, we find\n",
    "\n",
    "\\begin{align}\n",
    "\\frac{L_{Jup}^{orb}}{L_{\\oplus}^{orb}} &= \\left(\\frac{317\\ m_\\oplus}{m_\\oplus}\\right) \\left(\\frac{2.75\\ {\\rm AU/yr}}{2\\pi\\ {\\rm AU/yr}}\\right) \\left(\\frac{5.2\\ {\\rm AU}}{1\\ {\\rm AU}}\\right)\n",
    "= 723. \n",
    "\\end{align}\n",
    "\n",
    "This means that Jupiter has $723\\times$ more orbital angular momentum than the Earth.\n",
    "\n",
    "```{note}\n",
    "Objects on larger orbits typically have more angular momentum than those on smaller orbits.  If you move an object inward it has to orbit faster to conserve angular momentum.  When this is a gas cloud, it leads to the cloud spinning up.\n",
    "```"
   ]
  },
  {
   "cell_type": "code",
   "execution_count": 16,
   "metadata": {},
   "outputs": [
    {
     "name": "stdout",
     "output_type": "stream",
     "text": [
      "Jupiter has 723 times more angular momentum than Earth.\n"
     ]
    }
   ],
   "source": [
    "mass_ratio = 317 #number of Earth masses in Jupiter\n",
    "v_ratio = v_c/(2*np.pi) #orbital velocity ration between Earth & Jupiter (circular orbits)\n",
    "\n",
    "L_ratio = mass_ratio*v_ratio*a_Jup\n",
    "print(\"Jupiter has %3.3g times more angular momentum than Earth.\" % L_ratio)"
   ]
  },
  {
   "cell_type": "markdown",
   "metadata": {},
   "source": [
    "\n",
    "### Jupiter's Spin Angular Momentum\n",
    "The spin angular momentum is a little more complicated because we need to include the individual angular momentum from every tiny mass element.  This combines to form the mass distribution.  For Jupiter, we can assume that the planet is roughly spherical to simplify the problem.  For this tutorial, we'll mostly skip to the final form where interested students can see an example from [OpenStax](https://openstax.org/books/college-physics-2e/pages/10-5-angular-momentum-and-its-conservation) for more details.\n",
    "\n",
    "For a uniform sphere the spin angular momentum, we have\n",
    "\n",
    "\\begin{align}\n",
    "L_{Jup}^{spin} = \\frac{2}{5} m_{Jup}R_{Jup}^2 \\omega_{Jup},\n",
    "\\end{align}\n",
    "\n",
    "where the radius of Jupiter is ${\\sim}11R_\\oplus$ and $1R_\\oplus = 4.263 \\times 10^{-5}\\ {\\rm AU}$.  The term $\\omega_{Jup}$ refers to its rotational speed $(=2\\pi/P_{rot})$, which we can calculate using its rotational period $P_{rot}$ that is ${\\sim}10\\ {\\rm hr} = 1.25 \\times 10^{-3}\\ {\\rm yr}$.  Then the above equation becomes\n",
    "\n",
    "\\begin{align}\n",
    "L_{Jup}^{spin} &= \\frac{2}{5}\\left(9.54\\times 10^{-4}\\ M_\\odot \\right) \\left(4.69\\times 10^{-4}\\ {\\rm AU}\\right)^2 \\left(\\frac{2\\pi}{1.25 \\times 10^{-3}\\ {\\rm yr}} \\right), \\\\\n",
    "&= 4.20 \\times 10^{-7}\\ \\frac{M_\\odot\\ \\rm AU^2}{\\rm yr}.\n",
    "\\end{align}\n",
    "\n",
    "We can see that Jupiter's spin angular momentum is a lot smaller than its orbital angular momentum.  Both expressions for angular momentum depend on the distance, but to a different degree.  The orbital angular momentum depends only linearly on $r$, where the spin angular momentum depends on $r^2$.  Coupled with our previous finding that smaller $r$ leads to lower orbital angular momentum, this is even more dramatic for the spin angular momentum.\n",
    "\n",
    "Again let's compare the spin angular momentum between Jupiter and the Earth by using a ratio.  We can construct the ratio as\n",
    "\n",
    "\\begin{align}\n",
    "\\frac{L_{Jup}^{spin}}{L_\\oplus^{spin}} &= \\frac{2}{5} m_{Jup}R_{Jup}^2 \\left(\\frac{2\\pi}{P_{Jup}^{rot}} \\right) \\times \\frac{5}{2} \\frac{1}{m_{\\oplus}R_{\\oplus}^2} \\left(\\frac{P^{rot}_\\oplus}{2\\pi} \\right), \\\\\n",
    "&= \\left(\\frac{m_{Jup}}{m_\\oplus}\\right)\\left(\\frac{R_{Jup}}{R_\\oplus}\\right)^2 \\left(\\frac{P_\\oplus^{rot}}{P_{Jup}^{rot}} \\right), \\\\\n",
    "& = \\left(\\frac{317\\ m_\\oplus}{m_\\oplus}\\right) \\left(\\frac{11\\ R_\\oplus}{R_\\oplus}\\right)^2 \\left(\\frac{24\\ {\\rm hr}}{11\\ {\\rm hr}}\\right), \\\\\n",
    "&= 8.37 \\times 10^4.\n",
    "\\end{align}\n",
    "\n",
    "Jupiter has ${\\sim}84,000\\times$ more spin angular momentum than the Earth.  We expect this because Jupiter is more massive, bigger, and spins faster.\n"
   ]
  },
  {
   "cell_type": "code",
   "execution_count": 30,
   "metadata": {},
   "outputs": [
    {
     "name": "stdout",
     "output_type": "stream",
     "text": [
      "The spin angular momentum of Juptier is: 4.2e-07 Msun AU^2/yr\n",
      "Jupiter has approximately 8.37e+04 times more spin angular momentum than Earth.\n"
     ]
    }
   ],
   "source": [
    "import numpy as np\n",
    "R_E = 4.263e-5 #Radius of Earth in AU\n",
    "R_Jup = 11*R_E #Radius of Jupiter in AU\n",
    "PJ_rot = 11/24/365.25 #Jupiter's rotation in years\n",
    "PE_rot = 1./365.25 #Earth's rotation period in years\n",
    "\n",
    "L_Jup_spin = 0.4*M_Jup*R_Jup**2*(2*np.pi/PJ_rot)\n",
    "print(\"The spin angular momentum of Juptier is: %1.3g Msun AU^2/yr\" % L_Jup_spin)\n",
    "\n",
    "L_spin_ratio = mass_ratio*(R_Jup/R_E)**2*(PE_rot/PJ_rot)\n",
    "print(\"Jupiter has approximately %1.3g times more spin angular momentum than Earth.\" % L_spin_ratio)"
   ]
  }
 ],
 "metadata": {
  "kernelspec": {
   "display_name": "base",
   "language": "python",
   "name": "python3"
  },
  "language_info": {
   "codemirror_mode": {
    "name": "ipython",
    "version": 3
   },
   "file_extension": ".py",
   "mimetype": "text/x-python",
   "name": "python",
   "nbconvert_exporter": "python",
   "pygments_lexer": "ipython3",
   "version": "3.11.5"
  }
 },
 "nbformat": 4,
 "nbformat_minor": 2
}