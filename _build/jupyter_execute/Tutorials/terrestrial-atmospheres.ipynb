{
 "cells": [
  {
   "cell_type": "markdown",
   "metadata": {},
   "source": [
    "# Atmospheres of the Terrestrial Planets"
   ]
  },
  {
   "cell_type": "markdown",
   "metadata": {},
   "source": [
    "# Atmosphere Retention\n",
    "\n",
    "Planets hold onto their atmosphere through their own gravity.  We can estimate a planet's ability to hold onto its atmosphere by comparing the average speed of particles in a gas to the escape velocity from the planet (see [4.2.2](https://saturnaxis.github.io/IntroAstro/Tutorials/gravity-and-orbits.html#escape-velocity)).  The escape velocity is given as\n",
    "\n",
    "\\begin{align}\n",
    "v_{\\rm esc} &= \\sqrt{\\frac{2GM}{R}},\n",
    "\\end{align}\n",
    "\n",
    "where $M$ is the mass of the planet and $R$ is the distance from the center (often just the planetary radius).  The units of $M$ and $R$ depend on the choice of $G$ (the Universal Gravitational constant).  However, we can rewrite the above equation in terms of parameters for the Earth as\n",
    "\n",
    "\\begin{align}\n",
    "v^\\prime_{\\rm esc} &= \\frac{v_{\\rm esc}}{v_{\\rm esc}^{\\rm Earth}} &= \\sqrt{\\frac{M}{M_\\oplus}\\left(\\frac{R_\\oplus}{R}\\right)^2},\n",
    "\\end{align}\n",
    "\n",
    "where we just need to know the escape velocity of the Earth ($v_{\\rm esc}^{\\rm Earth} \\sim 11\\ {\\rm km/s}$) if we need more standard units.\n",
    "\n",
    "The temperature $T$ of a gas is proportional to the kinetic energy of the particles $(KE=1/2\\ mv^2)$.  The average kinetic energy $\\bar{KE}$ for a gas is \n",
    "\n",
    "\\begin{align}\n",
    "\\bar{KE} =\\frac{3}{2}kT,\n",
    "\\end{align}\n",
    "\n",
    "where $k$ represents the [Boltzmann constant](https://en.wikipedia.org/wiki/Boltzmann_constant).  Using the average squared velocity $\\bar{v^2}$ for the kinetic energy $KE$, we can equate these two energies through\n",
    "\n",
    "\\begin{align}\n",
    "\\frac{1}{2}m\\bar{v^2} &= \\frac{3}{2}kT, \\\\\n",
    "\\bar{v^2} &= \\frac{3kT}{m}.\n",
    "\\end{align}\n",
    "\n",
    "We can then arrive at an expression for the velocity of a gas molecule as\n",
    "\n",
    "\\begin{align}\n",
    "v_{\\rm molecule} = \\sqrt{\\frac{3kT}{m}}.\n",
    "\\end{align}"
   ]
  }
 ],
 "metadata": {
  "language_info": {
   "name": "python"
  }
 },
 "nbformat": 4,
 "nbformat_minor": 2
}