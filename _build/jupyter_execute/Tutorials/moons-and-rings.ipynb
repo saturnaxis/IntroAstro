{
 "cells": [
  {
   "cell_type": "markdown",
   "metadata": {},
   "source": [
    "# Planetary Moons and Rings"
   ]
  },
  {
   "cell_type": "markdown",
   "metadata": {},
   "source": [
    "## Using Moons to Compute the Mass of a Planet\n",
    "\n",
    "Recall from [Chapter 4](https://saturnaxis.github.io/IntroAstro/Tutorials/gravity-and-orbits.html#mass-of-the-jupiter), we used the orbital motion of Europa to calculate the mass of Jupiter.  We used the following equation:\n",
    "\n",
    "\\begin{align}\n",
    "M = \\frac{4\\pi^2}{G} \\times \\frac{a^3}{P^2},\n",
    "\\end{align}\n",
    "\n",
    "where $a$ is the semimajor axis, $P$ is the orbital period, and $M$ is the mass of the central body.  If we choose to measure $a$ in AU, $P$ in years, and $M$ in $M_\\odot$, then $G = 4\\pi^2$.  Then the equation becomes simpler,\n",
    "\n",
    "\\begin{align}\n",
    "M = \\frac{a^3}{P^2}.\n",
    "\\end{align}\n",
    "\n",
    "This equation was used to determine the mass of Pluto with greater accuracy.  Prior to the discovery of Charon, Pluto's mass was estimated based on its brightness.  But with a newly discovered moon, the mass could be determined more precisely using the orbital motion of Charon.\n",
    "\n",
    "[Charon](https://en.wikipedia.org/wiki/Charon_(moon)) has an orbital (sidereal) period of 6.387 days and a semimajor axis of about $16.5$ Pluto radii.  Pluto's radius is about 0.185 times the radius of Earth.  We need to first do some unit conversions before getting down to business:\n",
    "\n",
    "\\begin{align}\n",
    "\\frac{6.387\\ {\\rm days}}{1} \\times \\frac{1\\ {\\rm yr}}{365.25\\ {\\rm days}} &= 0.0175\\ {\\rm yr}, \\\\\n",
    "\\frac{16.5\\ R_{\\rm Pl}}{1} \\times \\frac{0.185\\ R_\\oplus}{1\\ R_{\\rm Pl} } \\times \\frac{4.264 \\times 10^{-5}\\ {\\rm AU}}{1\\ R_\\oplus} &= 1.302 \\times 10^{-4}\\ {\\rm AU}.\n",
    "\\end{align}\n",
    "\n",
    "Since we have the semimajor axis in AU and orbital period in years, then we can apply our version of Kepler's 3rd Law.  The mass of Pluto is given by\n",
    "\n",
    "\\begin{align}\n",
    "M_{\\rm Pl} = \\frac{a^3}{P^2} = \\frac{\\left( 1.302 \\times 10^{-4}\\right)^3}{\\left(0.0175\\ {\\rm yr} \\right)^2} = 7.21 \\times 10^{-9}\\ M_\\odot.\n",
    "\\end{align}\n",
    "\n",
    "```{note}\n",
    "Recall from [Chapter 1](https://saturnaxis.github.io/IntroAstro/Tutorials/thinking-like-astronomer.html#mathematical-tools) that this calculation can be made easier (i.e., fewer parentheses) to enter in the calculator by using the `EE` button.\n",
    "```\n",
    "\n",
    "Pluto's mass is very small compared to the Sun.  However, we can convert the value to instead compare to the Earth's mass or even the Moon's mass ($M_{\\rm Moon}$), by\n",
    "\n",
    "\\begin{align}\n",
    "\\frac{7.21 \\times 10^{-9}\\ M_\\odot}{1} \\times \\frac{1\\ M_\\oplus}{3.03 \\times 10^{-6} M_\\odot} &= 2.4 \\times 10^{-3} M_\\oplus, \\\\\n",
    "\\frac{2.4 \\times 10^{-3} M_\\oplus}{1} \\times \\frac{1\\ M_{\\rm Moon}}{0.0123 M_\\oplus} &= 0.195\\ M_{\\rm Moon}.\n",
    "\\end{align}\n",
    "\n",
    "We find that Pluto's mass is about $19.5\\%$ of our Moon's mass.  This isn't completely correct, rather the combined mass of Pluto and Charon ($M_{\\rm Pl} + M_{\\rm Ch}$) is $19.5\\%$ of our Moon's mass.  To get Pluto's mass, we need to perform a separate experiment to identify Charon's mass relative to Pluto.  Since Charon eclipses Pluto periodically, we can determine the mass ratio $M_{\\rm Ch}/M_{\\rm Pl} = 0.122$ from a combination of spectra and photometry.  Transforming what we know in terms of this ratio, we get\n",
    "\n",
    "\\begin{align}\n",
    "M_{\\rm Pl} + M_{\\rm Ch} &= 0.195\\ M_{\\rm Moon}, \\\\\n",
    "M_{\\rm Pl} \\left(1+\\frac{M_{\\rm Ch}}{M_{\\rm Pl}} \\right) &= 0.195\\ M_{\\rm Moon}, \\\\\n",
    "M_{\\rm Pl} &= \\frac{0.195}{1+0.122}\\ M_{\\rm Moon}, \\\\\n",
    "M_{\\rm Pl} &= 0.174\\ M_{\\rm Moon},\n",
    "\\end{align}\n",
    "\n",
    "which is close to the true value for [Pluto's mass](https://en.wikipedia.org/wiki/Pluto) of $17.7\\%$ of the Moon's mass.\n",
    "\n",
    "Pluto has 4 other [moons](https://en.wikipedia.org/wiki/Moons_of_Pluto) (Nix, Styx, Kerberos, and Hydra), but these orbit the Pluto-Charon barycenter.  Their motions can be used to more precisely determine the combined mass of Pluto and Charon."
   ]
  },
  {
   "cell_type": "code",
   "execution_count": 1,
   "metadata": {},
   "outputs": [
    {
     "name": "stdout",
     "output_type": "stream",
     "text": [
      "Charon's semimajor axis in AU is: 0.0001302\n",
      "Charon's orbital period in yr is: 0.0175\n",
      "------\n",
      "Pluto's mass (in Msun) is: 7.21e-09\n",
      "Pluto's mass (in M_E) is: 0.002401\n",
      "Pluto's mass relative to Earth's moon is: 0.195\n",
      "------\n",
      "Pluto's mass relative to Earth's moon is: 0.174 \n"
     ]
    }
   ],
   "source": [
    "days2year = 365.25 #days in a year\n",
    "RE2AU = 4.264e-5 #AU in an Earth Radius\n",
    "M_E = 3.003e-6 #Earth mass in solar masses\n",
    "M_Moon = 0.0123 #Moon mass in Earth masses\n",
    "\n",
    "P_Charon = 6.387 #orbital period in days\n",
    "a_Charon = 16.5 #semimajor axis in R_Pl\n",
    "\n",
    "#Note the *= operator allows for multiplication and storage in a single step\n",
    "#Example: x *= 5 --> x = x*5\n",
    "a_Charon *= 0.185*RE2AU #Pluto' radius is ~0.185 R_E\n",
    "P_Charon /= days2year\n",
    "print(\"Charon's semimajor axis in AU is: %1.4g\" % a_Charon)\n",
    "print((\"Charon's orbital period in yr is: %1.3g\" % P_Charon))\n",
    "print(\"------\")\n",
    "M_Pl = a_Charon**3/P_Charon**2\n",
    "print(\"Pluto's mass (in Msun) is: %1.3g\" % M_Pl)\n",
    "print(\"Pluto's mass (in M_E) is: %1.4g\" % (M_Pl/M_E))\n",
    "print(\"Pluto's mass relative to Earth's moon is: %1.3g\" % (M_Pl/(M_Moon*M_E)))\n",
    "print(\"------\")\n",
    "#Need to correct using the Charon-Pluto mass ratio\n",
    "mass_ratio = 0.122 #Mass ratio of Charon to Pluto\n",
    "M_Pl = M_Pl/(M_Moon*M_E)/(1+mass_ratio)\n",
    "print(\"Pluto's mass relative to Earth's moon is: %1.3g \" % M_Pl)"
   ]
  },
  {
   "cell_type": "markdown",
   "metadata": {},
   "source": [
    "## Tidal Forces on the Moons\n",
    "\n",
    "Recall from [4.4 Tidal Forces](https://saturnaxis.github.io/IntroAstro/Tutorials/gravity-and-orbits.html#tidal-forces), we compared the tidal forces on the Earth due to the Sun and the Moon.  A similar logic/equation can be applied to compare the tidal forces from Jupiter acting on Io or Europa.  Starting from\n",
    "\n",
    "$F_{\\rm tidal}({\\rm moon}) = 2\\left(\\frac{GM_{\\rm Jup}m}{d^2_{\\rm Jupiter-moon}}\\right)\\left(\\frac{R_{\\rm moon}}{d_{\\rm Jupiter-moon}}\\right), $\n",
    "\n",
    "where we substituted ${\\rm Moon} \\rightarrow {\\rm moon}$ to indicate that we are calculating the tidal force for a mass $m$ on the respective moon (Io or Europa).  The central body in this case is Jupiter instead of the Earth.  Now we can compare the relative tidal strengths on each of the two moons:\n",
    "\n",
    "\\begin{align}\n",
    "\\frac{F_{\\rm tidal}({\\rm Io})}{F_{\\rm tidal}({\\rm Europa})} &= 2\\left(\\frac{GM_{\\rm Jup}m}{d_{\\rm Jup-Io}^2}\\right) \\left(\\frac{R_{\\rm Io}}{d_{\\rm Jup-Io}}\\right) \\times \\frac{1}{2} \\left(\\frac{d_{\\rm Jup-Europa}^2}{GM_{\\rm Jup} m}\\right) \\left(\\frac{d_{\\rm Jup-Europa}}{R_{\\rm Europa}}\\right), \\\\\n",
    "&=\\left(\\frac{R_{\\rm Io}}{R_{\\rm Europa}}\\right) \\times  \\left(\\frac{d_{\\rm Jup-Europa}}{d_{\\rm Jup-Io}}\\right)^3.\n",
    "\\end{align}\n",
    "\n",
    "Therefore, we need to know the radius and distance ratio of the the two moons to determine how much stronger/weaker is the tidal force from Jupiter on each.  We can find the mean radius of Io ($R_{\\rm Io} = 1821.49\\ {\\rm km}$) and Europa ($R_{\\rm Europa} = 1560.80\\ {\\rm km}$) tabulated by [NASA JPL](https://ssd.jpl.nasa.gov/sats/phys_par/).  The semimajor axes for Io and Europa are tabulated in Appendix 4 of the textbook, which are $422,000\\ {\\rm km}$ and $671,000\\ {\\rm km}$, respectively.\n",
    "\n",
    "We find the relative tidal force between Io and Europa by,\n",
    "\n",
    "\\begin{align}\n",
    "\\frac{F_{\\rm tidal}({\\rm Io})}{F_{\\rm tidal}({\\rm Europa})} = \\left(\\frac{1821.49\\ {\\rm km}}{1560.80\\ {\\rm km}}\\right) \\times  \\left(\\frac{671,000\\ {\\rm km}}{422,000\\ {\\rm km}}\\right)^3 = 4.69.\n",
    "\\end{align}\n",
    "\n",
    "This, the tidal forces on Io are $4.69\\times$ stronger than those on Europa.\n"
   ]
  },
  {
   "cell_type": "code",
   "execution_count": 2,
   "metadata": {},
   "outputs": [
    {
     "name": "stdout",
     "output_type": "stream",
     "text": [
      "The relative tidal force between Io and Europa is: 4.69\n"
     ]
    }
   ],
   "source": [
    "R_Io = 1821.49 #radius of Io in km\n",
    "R_Eur = 1560.8 #radius of Europa in km\n",
    "d_Io = 4.22e5 #semimajor axis of Io in km\n",
    "d_Eur = 6.71e5 #semimjaor axis of Europa in km\n",
    "\n",
    "F_tide = (R_Io/R_Eur)*(d_Eur/d_Io)**3\n",
    "print(\"The relative tidal force between Io and Europa is: %1.3g\" % F_tide)"
   ]
  },
  {
   "cell_type": "markdown",
   "metadata": {},
   "source": [
    "## Feeding the Rings\n",
    "\n",
    "Rings are not forever, where they disspate over time through a process called viscous spreading.  The rings act like a slowly moving fluid where the expand outward and inward due to collisions between ring particles. `Recall from Chapter 7 this was part of the reason that protoplanetary disks form at all.` Think of a pizza dough that you keep spinning, where it stretches out and becomes thinner over time.\n",
    "\n",
    "We've seen that some ring material can be kept in place through `shepherding moons`.  Another way to replenish the rings is through material that continually escapes from a nearby moon.  Io's volcanic eruptions feeds material into a plasma torus that surrounds Jupiter and emits radio waves.\n",
    "\n",
    "Saturn's moon Enceladus has cryovolcanism, which is seen near the tiger stripes.  Material (i.e., water + organic molecules) escape Enceladus due to its low surface gravity and escape velocity.  The escape velocity of a body relative to Earth's value ($v_{\\rm esc}^{\\rm Earth} = 11.186\\ {\\rm km/s}$) is given by:\n",
    "\n",
    "\\begin{align}\n",
    "\\left( \\frac{v^{\\rm moon}}{v^{\\rm Earth}}\\right)_{\\rm esc} &= \\sqrt{\\frac{GM_{\\rm moon}}{R_{\\rm moon}}} \\times \\sqrt{\\frac{R_\\oplus}{GM_\\oplus}}\n",
    "= \\sqrt{\\left(\\frac{M_{\\rm moon}}{M_\\oplus}\\right) \\left(\\frac{R_\\oplus}{R_{\\rm moon}}\\right)}.\n",
    "\\end{align}\n",
    "\n",
    "By writing the equation this way, we don't need to know the value for $G$.  Moreover, we only need to know the mass and radius of Enceladus relative to the Earth.  These values are tabulated on [Wikipedia:Enceladus](https://en.wikipedia.org/wiki/Enceladus), which are updated periodically.  Enceladus is $1.812\\times 10^{-5}$ of Earth's mass and $0.0396 R_\\oplus$.  With these values, we find that the relative escape velocity is \n",
    "\n",
    "\\begin{align}\n",
    "\\left( \\frac{v^{\\rm Enceladus}}{v^{\\rm Earth}}\\right)_{\\rm esc} \n",
    "= \\sqrt{\\left(1.812\\times 10^{-5}\\right) \\left(\\frac{1}{0.0396}\\right)} = 0.0214.\n",
    "\\end{align}\n",
    "\n",
    "This means that the escape velocity of Enceladus is:\n",
    "\n",
    "\\begin{align}\n",
    "v^{\\rm Enceladus}_{\\rm esc} = 0.0214 v_{\\rm esc}^{\\rm Earth} &= 0.239\\ {\\rm km/s}, \\\\\n",
    "&= \\frac{0.239\\ {\\rm km}}{\\rm s} \\times \\frac{3600\\ {\\rm s}}{1\\ {\\rm h}} = 861\\ {\\rm km/h}.\n",
    "\\end{align}\n",
    "\n",
    "The speed of particles from Enceladus' icy plumes is nearly $2200\\ {\\rm km/h}$, which shows that they can easily escape from Enceladus and supply the E-ring with fresh material over time."
   ]
  },
  {
   "cell_type": "code",
   "execution_count": 3,
   "metadata": {},
   "outputs": [
    {
     "name": "stdout",
     "output_type": "stream",
     "text": [
      "The escape velocity ratio between Enceladus and Earth is: 0.0214\n",
      "The escape velocity of Enceladus is: 0.239 km/s\n",
      "The escape velocity of Enceladus is: 861 km/h\n"
     ]
    }
   ],
   "source": [
    "import numpy as np\n",
    "mass_ratio = 1.812e-5 #Enceladus' mass in Earth masses\n",
    "radius_ratio = 0.0396 #Enceladus' radius in Earth radii\n",
    "v_esc_Earth = 11.186 #Earth's escape velocity in km/s\n",
    "sec2hr = 3600. #seconds in an hour\n",
    "\n",
    "\n",
    "v_ratio = np.sqrt(mass_ratio/radius_ratio)\n",
    "print(\"The escape velocity ratio between Enceladus and Earth is: %1.3g\" % v_ratio)\n",
    "print(\"The escape velocity of Enceladus is: %1.3g km/s\" % (v_ratio*v_esc_Earth))\n",
    "print(\"The escape velocity of Enceladus is: %1.3g km/h\" % (v_ratio*v_esc_Earth*sec2hr))\n"
   ]
  }
 ],
 "metadata": {
  "kernelspec": {
   "display_name": "base",
   "language": "python",
   "name": "python3"
  },
  "language_info": {
   "codemirror_mode": {
    "name": "ipython",
    "version": 3
   },
   "file_extension": ".py",
   "mimetype": "text/x-python",
   "name": "python",
   "nbconvert_exporter": "python",
   "pygments_lexer": "ipython3",
   "version": "3.11.5"
  }
 },
 "nbformat": 4,
 "nbformat_minor": 2
}