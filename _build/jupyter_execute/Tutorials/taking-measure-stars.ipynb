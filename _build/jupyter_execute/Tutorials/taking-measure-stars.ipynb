{
 "cells": [
  {
   "cell_type": "markdown",
   "metadata": {},
   "source": [
    "# Taking Measure of the Stars"
   ]
  },
  {
   "cell_type": "markdown",
   "metadata": {},
   "source": [
    "## Parallax and Distance\n",
    "\n",
    "A star's [parallax](https://en.wikipedia.org/wiki/Stellar_parallax) is a measure of how much (in angle) it moves on the sky relative to a baseline distance.  For stars, we typically use the distance from the Earth to the Sun ($1\\ {\\rm AU}$) as the baseline.  Thus, we define the parallax angle $p$ as:\n",
    "\n",
    "$$ \\tan{p} = \\frac{\\text{baseline distance}}{\\text{distance to star}} = \\frac{b}{d}.$$\n",
    "\n",
    "Stars are really far away and typically have very small movements on the sky, where the closest stars move only ${\\sim}0.768$ arcseconds (or $\\rm arcsec$).  Using the Earth's orbit as a baseline and simplifying for small angles, we get\n",
    "\n",
    "\\begin{align}\n",
    "p \\propto \\frac{1}{d}.\n",
    "\\end{align}\n",
    "\n",
    "The parallax angle $p$ must be measured in arcseconds, which makes the proportion an equality and gives us a distance in **parsec** $(\\text{pc})$.  A parsec can be converted into a **light-year** $({\\rm ly})$ through the conversion factor: $1\\ {\\rm pc} = 3.26\\ {\\rm ly}$.\n",
    "\n",
    "After the Sun, the next-closest star to the Earth is [Proxima Centauri](https://en.wikipedia.org/wiki/Proxima_Centauri).  Proxima is a faint member of the triple-star system Alpha Centauri (only confirmed as a member in 2016).  Due to New Horizon's, we have an impressively measured parallax of $0.7685$ arcseconds.  **How far away is Proxima Centauri (in ly)?**\n",
    "\n",
    "We have to do two (fairly light) calculations.  First, we need to determine the distance in parsecs because our measurement is in arcseconds.  This can be shown as,\n",
    "\n",
    "\\begin{align}\n",
    "d = \\frac{1}{p({\\rm arcsec})} = \\frac{1}{0.7685} = 1.301\\ {\\rm pc}.\n",
    "\\end{align}\n",
    "\n",
    "Next, we need to convert the distance in $\\rm pc$ to a distance in $\\rm ly$.  So, we apply the conversion factor by,\n",
    "\n",
    "\\begin{align}\n",
    "\\frac{1.301\\ {\\rm pc}}{1} \\times \\frac{3.26\\ {\\rm ly}}{1\\ {\\rm pc}} = 4.24\\ {\\rm ly}.\n",
    "\\end{align}\n",
    "\n",
    "Proxima is $4.24\\ {\\rm ly}$ away from the Earth.  Given that $1\\ {\\rm AU}$ is small compared to a light-year, it doesn't matter if we say its that distance from the Earth or the Sun.\n",
    "\n",
    "```{note}\n",
    "Recall that 1 degree on the sky is about the width of your pinky finger at arm's length. A single arcminute is $1/60$ of a degree, and an arcsecond is $1/60$ of an arcminute.  This means that an arcescond is $1/3600$ (or $0.0027\\%$) of the width of your pinky.  The movement of the closest star due to parallax is smaller than that.  It's no wonder that the ancients were believed in geocentrism for so long, since stellar parallax couldn't be measured.\n",
    "```"
   ]
  },
  {
   "cell_type": "markdown",
   "metadata": {},
   "source": [
    "## The Magnitude System\n",
    "\n",
    "The [apparent magnitude](https://en.wikipedia.org/wiki/Apparent_magnitude) for celestial objects (or how bright a object looks) was developed by Hipparchus.  But it was adjusted and standardized by 1856.\n",
    "\n",
    "Astronomers defined 1st magnitude (or $m=1$) stars to be exactly $100\\times$ brigther than 6th magnitude (or $m=6$) stars.  The system is extended to stars brighter than 1st magnitude by using the negative numbers and fainter than 6th magnitude by increasingly positive numbers.  To find how much brighter (or fainter) as star is, you must follow this relation,\n",
    "\n",
    "\\begin{align}\n",
    "B = 2.512^{(m_1-m_2)},\n",
    "\\end{align}\n",
    "\n",
    "where $m_1$ and $m_2$ are the apparent magnitudes of the two objects. Let's check to see how much brighter a 6th magnitude star is compared to a 1st magnitude.\n",
    "\n",
    "$$B = 2.512^{(6-1)} = 2.512^5 \\approx 100. $$\n",
    "\n",
    "Here are some rules of thumb for the magnitude system:\n",
    "\n",
    "1. Smaller (or more negative) numbers represent bright objects; The Sun's apparent magnitude $m_{\\rm Sun} = -26.7$.\n",
    "2. Fainter (or more positive) numbers represent faint objects; The apparent magnitude of M81, $m_{\\rm M81} = 6.94$.\n",
    "3. Magnitudes measure brightness as factors of $2.512$.\n",
    "\n",
    "**Sirius is one of the brightest star's in the Northern night sky, with an apparent magnitude of $-1.46$.  Many people (mistakenly) believe Polaris is one of the brightest stars, where its apparent magnitude is about $2.00$.  How much brighter is Sirius than Polaris?**\n",
    "\n",
    "We need to find the difference in magnitudes between the two stars.  Recall that the distance between a positive and negative number is the sum of their difference from zero.  We can incorporate this into our equation as,\n",
    "\n",
    "\\begin{align}\n",
    "B = 2.512^(2-(-1.46)) = 2.512^{3.46} = 24.2.\n",
    "\\end{align}\n",
    "\n",
    "This means that Sirius is about $24.2\\times$ brighter than Polaris.\n",
    "\n"
   ]
  },
  {
   "cell_type": "code",
   "execution_count": null,
   "metadata": {},
   "outputs": [
    {
     "name": "stdout",
     "output_type": "stream",
     "text": [
      "Sirius is 24.2 times brigther than Polaris.\n"
     ]
    }
   ],
   "source": [
    "m_Polaris = 2.00\n",
    "m_Sirius = -1.46\n",
    "\n",
    "B = 2.512**(m_Polaris-m_Sirius)\n",
    "print(\"Sirius is %2.1f times brighter than Polaris.\" % B)"
   ]
  },
  {
   "cell_type": "markdown",
   "metadata": {},
   "source": [
    "## Estimating the Sizes of Stars"
   ]
  },
  {
   "cell_type": "markdown",
   "metadata": {},
   "source": [
    "## Measuring the Mass of an Eclipsing Binary Pair"
   ]
  }
 ],
 "metadata": {
  "kernelspec": {
   "display_name": "base",
   "language": "python",
   "name": "python3"
  },
  "language_info": {
   "codemirror_mode": {
    "name": "ipython",
    "version": 3
   },
   "file_extension": ".py",
   "mimetype": "text/x-python",
   "name": "python",
   "nbconvert_exporter": "python",
   "pygments_lexer": "ipython3",
   "version": "3.11.5"
  }
 },
 "nbformat": 4,
 "nbformat_minor": 2
}