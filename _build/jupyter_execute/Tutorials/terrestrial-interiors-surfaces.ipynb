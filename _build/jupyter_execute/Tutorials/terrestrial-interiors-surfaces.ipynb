{
 "cells": [
  {
   "cell_type": "markdown",
   "metadata": {},
   "source": [
    "# The Terrestrial Planets and Earth's Moon \n",
    "\n",
    "## Computing the Ages of Rocks\n",
    "\n",
    "Some elements are radioactive, which means that a parent element decays into a daughter element plus and a much smaller particle is ejected.  Scientists can quantify the decay process by measuring the ratio of the final amount $P_F$ to the original amount $P_o$ of the parent elements, or $P_F/P_o$.  This ratio changes over time as more of the parent elements decay into daughter elements.  The *time it takes* for half of the orignal amount to decay is called the **half-life**.  \n",
    "\n",
    "We can express the ratio in terms of the number of half-lives $n$ that have elapsed, or\n",
    "\n",
    "\\begin{align} \n",
    "\\frac{P_F}{P_o} = \\left(\\frac{1}{2}\\right)^n,\n",
    "\\end{align}\n",
    "\n",
    "where $P_F$ and $P_o$ represent the final and original amounts, respectively.\n",
    "\n",
    "The most abundant isotope of uranium is U-238, which decays through a series of intermediate daughters to an isotope of lead (Pb-206).  The half-life of U-238 is 4.5 billion years.  Therefore, after 4.5 billion years, a sample that originally contained only U-238 and no Pb-206 would be found with equal numbers of both U-238 and Pb-206.  If we found a mineral with such a composition, we would know that the mineral crystallized (i.e., formed) 4.5 billion years ago.\n",
    "\n",
    "Another isotope of uranium is U-235, which decays to a different lead isotope Pb-207 with a half-life of 700 million years.\n",
    "\n",
    "[Tera et al. (1974)](https://www.sciencedirect.com/science/article/pii/0012821X74900594) analyzed lunar rock brought back from the Apollo missions.  They found in one of the samples (67455,6) that it contains $114.6\\ {\\rm picomoles}$ of Pb-206.  The same sample contained $0.194\\ {\\rm nanomoles}$ of U-238 per gram of sample.  The ratio of lead to uranium is \n",
    "\n",
    "\\begin{align}\n",
    "\\frac{\\rm ^{206}Pb}{\\rm ^{238}U} = \\frac{114.6 \\times 10^{-12}\\ {\\rm mole}}{0.194 \\times 10^{-9}\\ {\\rm mole}} = \\frac{1.146 \\times 10^{-10}}{1.94 \\times 10^{-10}} = 0.591.\n",
    "\\end{align}"
   ]
  },
  {
   "cell_type": "code",
   "execution_count": 3,
   "metadata": {},
   "outputs": [
    {
     "name": "stdout",
     "output_type": "stream",
     "text": [
      "The ratio of Pb-206 to U-238 is: 0.591.\n"
     ]
    }
   ],
   "source": [
    "Pb_moles = 114.6e-12 #number of moles of Pb-206\n",
    "U_moles = 0.194e-9 #number of moles of U-238\n",
    "\n",
    "Pb_U_ratio = Pb_moles/U_moles\n",
    "print(\"The ratio of Pb-206 to U-238 is: %1.3g.\" % Pb_U_ratio)"
   ]
  },
  {
   "cell_type": "markdown",
   "metadata": {},
   "source": [
    "This means that ${\\sim}60%$ of the parent isotope U-238 has decayed into Pb-206.  As a result, there is $4/10$ of the parent isotope U-238 remaining in the mineral sample.  Approximately 1 half-life has passed since the mineral formed, in which case the lunar sample is approximately 4.5 billion years old.\n",
    "\n",
    "Notice that this calculation was not a neat power of 2.  We can arrive at a more precise value transforming Eqn. [1](https://saturnaxis.github.io/IntroAstro/Tutorials/terrestrial-interiors-surfaces.html#equation-76775912-6bb3-4f2f-99d3-abe9966ce1a0) through the logarithm by\n",
    "\n",
    "\\begin{align}\n",
    "\\log_{10}\\frac{P_F}{P_o} &= \\log_{10}\\left(\\frac{1}{2}\\right)^n, \\\\\n",
    "&= n\\log_{10}\\left(\\frac{1}{2}\\right), \\\\\n",
    "&= -0.3n.\n",
    "\\end{align}\n",
    "\n",
    "Written in words, we have\n",
    "\n",
    "\\begin{align}\n",
    "\\log_{10}\\left(\\frac{\\text{Actual measured quantity of isotope}}{\\text{Original quantity of isotope}} \\right) = -0.3 \\left(\\frac{\\text{Time spent decaying (age)}}{\\text{Half-life}}\\right).\n",
    "\\end{align}\n",
    "\n",
    "Solving for the age, we have\n",
    "\n",
    "\\begin{align}\n",
    "\\text{Time spent decaying (age)} = -\\left(\\frac{\\text{Half-life}}{0.3}\\right) \\times \\log_{10}\\left(\\frac{\\text{Actual measured quantity of isotope}}{\\text{Original quantity of isotope}} \\right).\n",
    "\\end{align}\n",
    "\n",
    "For the U-238 that decays to Pb-206 with a half-life of $4.498 \\times 10^9\\ {\\rm yr}$, we can calculate the age as\n",
    "\n",
    "\\begin{align}\n",
    "\\text{Time spent decaying (age)} &= -\\left(\\frac{4.498 \\times 10^9\\ {\\rm yr}}{0.3}\\right) \\times \\log_{10}\\left(1-0.591 \\right), \\\\\n",
    "&= 1.294 \\left(4.498 \\times 10^9\\ {\\rm yr}\\right), \\\\\n",
    "&= 5.82 \\times 10^9\\ {\\rm yr}.\n",
    "\\end{align}\n",
    "\n",
    "The mineral is approximately 5.82 billion years old."
   ]
  },
  {
   "cell_type": "code",
   "execution_count": 4,
   "metadata": {},
   "outputs": [
    {
     "name": "stdout",
     "output_type": "stream",
     "text": [
      "The mineral is approximately 5.82e+09 years old.\n"
     ]
    }
   ],
   "source": [
    "import numpy as np\n",
    "lambda_U238 = 4.498e9 #half-life of U-238\n",
    "original_amount = 0.3\n",
    "\n",
    "age = -(lambda_U238/original_amount)*np.log10(1-Pb_U_ratio)\n",
    "print(\"The mineral is approximately %1.3g years old.\" % age)"
   ]
  },
  {
   "cell_type": "markdown",
   "metadata": {},
   "source": [
    "The video below demonstrates a more precise method for determining radiometric ages using the [Holmes and Houtermans](http://hyperphysics.phy-astr.gsu.edu/hbase/Nuclear/clkroc.html) system:\n",
    "\n",
    "<div align=\"center\">\n",
    "\n",
    "<iframe width=\"560\" height=\"315\"\n",
    "src=\"https://www.youtube.com/embed/xAtbqDXqmvY\" \n",
    "frameborder=\"0\" \n",
    "allow=\"accelerometer; autoplay; encrypted-media; gyroscope; picture-in-picture\" \n",
    "allowfullscreen></iframe>\n",
    "\n",
    "</div>"
   ]
  }
 ],
 "metadata": {
  "kernelspec": {
   "display_name": "base",
   "language": "python",
   "name": "python3"
  },
  "language_info": {
   "codemirror_mode": {
    "name": "ipython",
    "version": 3
   },
   "file_extension": ".py",
   "mimetype": "text/x-python",
   "name": "python",
   "nbconvert_exporter": "python",
   "pygments_lexer": "ipython3",
   "version": "3.11.5"
  }
 },
 "nbformat": 4,
 "nbformat_minor": 2
}