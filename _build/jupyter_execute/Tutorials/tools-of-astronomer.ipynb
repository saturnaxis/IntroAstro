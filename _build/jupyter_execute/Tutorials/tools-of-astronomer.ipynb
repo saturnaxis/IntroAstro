{
 "cells": [
  {
   "cell_type": "markdown",
   "metadata": {},
   "source": [
    "# Tools of an Astronomer"
   ]
  },
  {
   "cell_type": "markdown",
   "metadata": {},
   "source": [
    "## Telescope Aperture and Magnification\n",
    "\n",
    "### Aperture\n",
    "\n",
    "The light-gathering power of a telescope is proportional to the **area** $A$ of its lens or mirror.  Such optics are constructed as thin or thick *cylinder* because it's easier to even out the glass or metal by using the centripetal force from spinning.  It is eaiser measure the **aperture** (diameter) of a lens or mirror because you don't need to locate the exact center.  As a result, we use the area of a circle but substitute for the radius using the diameter ($r = D/2$) to get\n",
    "\n",
    "$$ A = \\pi \\left(\\frac{D}{2}\\right)^2 = \\frac{\\pi D^2}{4}. $$\n",
    "\n",
    "The amount of light that telescope collects is proportional to the **square** of the aperture.  \n",
    "\n",
    "How does the light-gathering power of a 20-cm (or 8 in) telescope compare with the pupil of your eye ($D_{\\rm eye} = 6\\ {\\rm mm}$) in the dark?\n",
    "\n",
    "There are two ways to answer this question:\n",
    "\n",
    "1. substitute **directly**, calculate the two areas, and find the ratio,\n",
    "2. substitute **symbolically**, look for cancelations, and find the ratio.\n",
    "\n",
    "The first option requires more effort, so we'll go with option 2.\n",
    "\n",
    "Let's define the area of each aperture symbolically as\n",
    "\n",
    "\\begin{align*}\n",
    "A_{\\rm 20cm} & = \\frac{\\pi D_{\\rm 20cm}^2}{4}, \\qquad\n",
    "A_{\\rm eye} &= \\frac{\\pi D_{\\rm eye}^2}{4}.\n",
    "\\end{align*}\n",
    "\n",
    "Then the ratio of the two areas is\n",
    "\n",
    "\\begin{align*}\n",
    "\\frac{A_{\\rm 20cm}}{A_{\\rm eye}} &= \\frac{\\pi D_{\\rm 20cm}^2}{4} \\times \\frac{4}{\\pi D_{\\rm eye}^2} = \\left( \\frac{D_{\\rm 20cm}}{D_{\\rm eye}}\\right)^2.\n",
    "\\end{align*}\n",
    "\n",
    "**Note that the $\\pi/4$ factor cancels because we used a ratio.**  To calculate the answer, we subsitute the values for the respective diameters\n",
    "\n",
    "\\begin{align*}\n",
    "\\frac{A_{\\rm 20cm}}{A_{\\rm eye}} &=  \\left( \\frac{200}{6}\\right)^2 = 1,111, \\\\\n",
    "A_{\\rm 20cm} &= 1,111 A_{\\rm eye}.\n",
    "\\end{align*}\n",
    "\n",
    "Thus, the light-gathering power of a 20-cm (8 in) telescope is more than 1,000 times greater than the power of your eye.\n",
    "\n",
    "Now let's compare a 20-cm telescope to the James Webb Space Telescope (JWST) that has an effective aperture of 6.5 m.  We can follow the same procedure to get\n",
    "\n",
    "\\begin{align*}\n",
    "\\frac{A_{\\rm JWST}}{A_{\\rm 20cm}} = \\left(\\frac{6.5}{0.2} \\right)^2 = 1,060.\n",
    "\\end{align*}\n",
    "\n",
    "The JWST has more than 1,000 times the light-gathering power of a 20-cm telescope.  This means that JWST has more than a million times the light-gathering power of your eye!\n",
    "\n",
    "Below is a python script demonstrating the above calculations. "
   ]
  },
  {
   "cell_type": "code",
   "execution_count": 1,
   "metadata": {},
   "outputs": [
    {
     "name": "stdout",
     "output_type": "stream",
     "text": [
      "The light-gathering power ratio between a 20-cm telescope and your eye is 1111.\n",
      "------------\n",
      "The light-gathering power ratio between JWST and a20-cm telescope is 1056.\n"
     ]
    }
   ],
   "source": [
    "D_20cm = 0.2 #diameter of a 20-cm aperture (in m)\n",
    "D_eye = 0.006 #diameter of your pupil in the dark (in m)\n",
    "\n",
    "LGP_ratio = (D_20cm/D_eye)**2\n",
    "print(\"The light-gathering power ratio between a 20-cm telescope and your eye is %i.\" % LGP_ratio)\n",
    "print(\"------------\")\n",
    "\n",
    "D_JWST = 6.5 #effective diameter of JWST (in m)\n",
    "LGP_ratio = (D_JWST/D_20cm)**2\n",
    "print(\"The light-gathering power ratio between JWST and a20-cm telescope is %i.\" % LGP_ratio)"
   ]
  },
  {
   "cell_type": "markdown",
   "metadata": {},
   "source": [
    "### Magnification\n",
    "\n",
    "Most telescopes have a set focal length, where the magnification is dependent on the focal length of the eyepiece.  The magnification of the image is given by the ratio of the focal lengths, or\n",
    "\n",
    "$$ \\text{Magnification} = \\frac{\\text{Telescope focal length}}{\\text{Eyepiece focal length}}. $$\n",
    "\n",
    "Suppose the focal length of a 20-cm telescope is 2000 mm (or 2 m).  A standard eyepiece has a focal length of 25 mm (or 0.025 m).  The 20-cm telescope will have a magnification $m$:\n",
    "\n",
    "$$ m = \\frac{2000}{25} = 80. $$\n",
    "\n",
    "That telescope and eyepiece combination magnifies the image by a factor of 80.  A crater on the Moon will appear $80\\times$ larger than when viewed with the naked (unaided) eye.\n",
    "\n",
    "**What happens if we swap out an eyepiece with a smaller focal length (e.g., 8 mm)?**  Will the magnification increase or decrease?\n",
    "\n",
    "We can see from the equation for magnification that a smaller eyepiece focal length leads to a smaller denominator.  When you decrease the denominator, the manification increases (e.g., $1/4 < 1/3 < 1/2$).  With this intuition in mind, we can calculate the new magnification as\n",
    "\n",
    "$$ m = \\frac{2000}{8} = 250. $$\n",
    "\n",
    "We found that the 8-mm eyepiece increases the magnfication to 250.  \n",
    "\n",
    "**A higher magnification will not necessarily imporove the image quality.**  A faint and fuzzy image will not look clearer when magnified.  To improve the image quality, you need to collect more photons, which can only be done by increasing the aperture."
   ]
  },
  {
   "cell_type": "markdown",
   "metadata": {},
   "source": [
    "## Diffraction Limit\n",
    "\n",
    "The practical limit on the angular resolution of a telescope $\\theta$ is called the [diffraction limit](https://openstax.org/books/university-physics-volume-3/pages/4-5-circular-apertures-and-resolution).  The formula for the diffraction limit is defined using the first zero point within the diffraction pattern between two sources.\n",
    "\n",
    "<p align=\"center\">\n",
    "<img src=\"https://openstax.org/apps/archive/20231218.154301/resources/fbbc4a4a82062ee333990123fef7f3ba326c502f\" \n",
    "        alt=\"diffraction limit\" \n",
    "        width=\"500\" \n",
    "        style=\"display: block; margin: 0 auto\" />\n",
    "</p>\n",
    "\n",
    "Using the above description we have\n",
    "\n",
    "$$ \\theta (\\text{rad}) \\approx 1.22 \\frac{\\lambda}{D}. $$\n",
    "\n",
    "The factor $1.22$ comes from the first zero of the order-one Bessel function of the first kind $J_1(x)$ divided by $\\pi$ (see [here](https://en.wikipedia.org/wiki/Angular_resolution)).  Also, this formula provides the limit in *radians*.  \n",
    "\n",
    "Astronomer's usually measure angles on the sky using **arcseconds**, which is $1/3600$ of a degree.  Thus, we can convert the above equation so that it returns arcseconds instead of radians to avoid doing the unit conversion multiple times.  Astronomer's also use an approximate formula where they round $1.22$ to $1$.  With these caveats in mind, we get the formula\n",
    "\n",
    "$$ \\theta(\\text{arcsec}) = 2.06 \\times 10^5 \\left(\\frac{\\lambda}{D}\\right). $$\n",
    "\n",
    "**Both $\\lambda$ and $D$ must have the same units.**\n",
    "\n",
    "Using the average size of the human pupil (6 mm), what is the angular resolution limit $\\theta (\\text{arcsec})$ in green light $(550\\ {\\rm nm})$?\n",
    "\n",
    "Before we can begin calculating, we must convert the wavelength from $\\rm nm$ to $\\rm mm$.  There are $10^6\\ {\\rm nm}$ in $1\\ {\\rm mm}$, where the wavelength (in mm) is\n",
    "\n",
    "$$ \\lambda_{\\rm 550nm} = \\frac{550\\ \\rm nm}{1} \\times \\frac{1\\ {\\rm mm}}{10^6\\ {\\rm nm}} =  0.00055\\ {\\rm mm}.$$\n",
    "\n",
    "Now that $\\lambda$ and $D$ are in the same units, we can proceed with the calculation to get\n",
    "\n",
    "$$ \\theta(\\text{arcsec}) = 2.06 \\times 10^5 \\left(\\frac{0.00055\\ {\\rm mm}}{6\\ {\\rm mm}}\\right) = 19\\ {\\rm arcsec}. $$\n",
    "\n",
    "The typical actual resolution of the human eye is $60\\ {\\rm arcsec}$ (or $1\\ {\\rm arcmin}$), where the above calculation is about 1/3 of this value.  We do not achieve the theoretical resolution with our eyes because the physical properties of our eyes are not perfect.\n",
    "\n",
    "**How does the resolution of the human eye compare with that of JWST?**\n",
    "\n",
    "We can compare using a ratio of $\\theta_{\\rm JWST}/\\theta_{\\rm eye}$ and we'll assume that $\\lambda$ is same in both cases.  As a result, we find\n",
    "\n",
    "$$ \\frac{\\theta_{\\rm eye}}{\\theta_{\\rm JWST}} = \\frac{\\lambda}{D_{\\rm eye}} \\times \\frac{D_{\\rm JWST}}{\\lambda} = \\frac{D_{\\rm JWST}}{D_{\\rm eye}} = \\frac{6.5}{0.006} = 1083.$$\n",
    "\n",
    "This means that JWST has ${\\sim}1,000$ times the resolving power than the human eye."
   ]
  },
  {
   "cell_type": "code",
   "execution_count": 4,
   "metadata": {},
   "outputs": [
    {
     "name": "stdout",
     "output_type": "stream",
     "text": [
      "The angular resolution of the human eye (at 550 nm) is 19 arcsec.\n",
      "----------------\n",
      "The resolution ratio betwen JWST and the human eye is 1083.\n"
     ]
    }
   ],
   "source": [
    "import numpy as np\n",
    "\n",
    "lamb_green = 550 #green light at 550 nm\n",
    "D_eye = 6 #diameter of a human pupil (in mm)\n",
    "\n",
    "lamb_green_mm = lamb_green/1e6 \n",
    "theta_arcsec = 2.06e5*lamb_green_mm/D_eye\n",
    "print(\"The angular resolution of the human eye (at 550 nm) is %i arcsec.\" % np.round(theta_arcsec))\n",
    "print(\"----------------\")\n",
    "\n",
    "D_JWST = 6.5 #effective diameter of JWST\n",
    "D_eye_m = 0.006 #diamter of a human pupil (in m)\n",
    "\n",
    "res_ratio = D_JWST/D_eye_m \n",
    "print(\"The resolution ratio betwen JWST and the human eye is %i.\" % res_ratio)"
   ]
  }
 ],
 "metadata": {
  "kernelspec": {
   "display_name": "base",
   "language": "python",
   "name": "python3"
  },
  "language_info": {
   "codemirror_mode": {
    "name": "ipython",
    "version": 3
   },
   "file_extension": ".py",
   "mimetype": "text/x-python",
   "name": "python",
   "nbconvert_exporter": "python",
   "pygments_lexer": "ipython3",
   "version": "3.11.5"
  }
 },
 "nbformat": 4,
 "nbformat_minor": 2
}