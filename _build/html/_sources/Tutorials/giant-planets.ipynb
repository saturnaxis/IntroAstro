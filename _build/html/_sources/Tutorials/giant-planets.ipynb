{
 "cells": [
  {
   "cell_type": "markdown",
   "metadata": {},
   "source": [
    "# Worlds of Gas and Liquid -- The Giant Planets"
   ]
  },
  {
   "cell_type": "markdown",
   "metadata": {},
   "source": [
    "## Measuring Wind Speeds on Different Planets\n",
    "\n",
    "*How do you measure the rotation of another planet?*  \n",
    "\n",
    "It depends on the planet.  On Mars, we could measure its rotation using a visible landmark.  However, this wasn't possible on Venus due to the hazy cloud layer.  Astronomers didn't have an accurate measure of Venus' rotation until the 1960s, where radar was needed to penetrate the cloud layers and the Doppler effect provided the true answer.\n",
    "\n",
    "The gas giants are very far away, so using radar may not be an option.  For some of the giant planets, we can use features of their atmospheres as \"landmarks\".  Jupiter and Neptune have large, conspicuous hurricanes (e.g., Great Red Spot and Great Dark Spot) that persist for a very long time.  We can measure how long it takes for these storms to appear and disappear.  \n",
    "\n",
    "Another (more accurate) method to measure rotation is by using the Doppler effect to analyze planetary spectra in the infrared.  The giant planets are emit their own light in the form of heat.  The Sun emits in the infrared but the amount reflected by the giant planet atmospheres is small compared to the light emitted by the planets themselves.  Therefore, we can use the redshift and blueshift changes in the planet's spectrum to give us another measure of the planet's rotation.\n",
    "\n",
    "For this example, we assume that we know the radius of the planet in question.  With this *prior* knowledge, we can find the speed of the surface features.  Consider a small cloud in Neptune's atmosphere that is different enough in composition to have a contrasting color.  The cloud is measured on the eastern most edge (i.e., limb) of the atmosphere.  About 13.5 hours later you see that the cloud has moved $1/4$ of the way across the disk of Neptune.  **What is the wind speed at the equator?**\n",
    "\n",
    "We know that $\\text{speed} = \\text{distance}/\\text{time}$.  Therefore, let's estimate how far the cloud has moved.  Initially, it was initially measured at the eastern limb and later measured $1/4$ of the way across the disk.  *How do we translate this into a fraction?*  \n",
    "\n",
    "- For the cloud to move back to the same position, it moves along the circumference of a circle (i.e., $360^\\circ$).\n",
    "- If the cloud moves from the eastern limb to the western limb, then it has traversed half-way around the circle (or $180^\\circ$).\n",
    "\n",
    "One-quarter of the way across the disk $\\rightarrow (1/4)\\times (1/2) = 1/8$.\n",
    "\n",
    "Now we just need to determine the circumference of the Neptune.  It's equatorial radius is $24,300\\ {\\rm km}$, which means we calculate the circumference as\n",
    "\n",
    "\\begin{align}\n",
    "C = 2\\pi r = 2\\pi \\times (24,300\\ {\\rm km}) = 152,700\\ {\\rm km}.\n",
    "\\end{align}\n",
    "\n",
    "Then we can determine how far the cloud has moved as\n",
    "\n",
    "\\begin{align}\n",
    "\\frac{1}{8} \\times 152,700\\ {\\rm km} = 19,090\\ {\\rm km}.\n",
    "\\end{align}\n",
    "\n",
    "Therefore the wind speed is given by\n",
    "\n",
    "\\begin{align}\n",
    "\\text{speed} &= \\frac{\\text{distance traveled}}{\\text{time}} \\\\\n",
    "&= \\frac{19,090\\ {\\rm km}}{13.5\\ {\\rm h}} = 1414\\ \\frac{\\rm km}{\\rm h} \\\\\n",
    "&= 393\\ {\\rm m/s}.\n",
    "\\end{align}\n",
    "\n",
    "The equatorial winds are very strong and blow in a direction opposite to the planet's rotation.  We know this because the planetary rotation period of Neptune is about 16 hours, where this cloud moved a much shorter distance than would be expected if it was just rotating with the planet.  On Earth, the much slower equivalents of those winds are called trade winds."
   ]
  },
  {
   "cell_type": "markdown",
   "metadata": {},
   "source": [
    "## Internal Thermal Energy Heats the Giant Planets\n",
    "\n",
    "We can measure the infrared (or thermal) energy emitted by the giant planets.  When doing so, we find that they are not in equilibrium (i.e., the measured value does not match the expected value).  If we used the calculations from [Chapter 5](https://saturnaxis.github.io/IntroAstro/Tutorials/light.html) for Jupiter, it should be $109\\ {\\rm K}$, but the average temperature is instead $124\\ {\\rm K}$.\n",
    "\n",
    "This may not seem like much of a difference, but recall that the Stefan-Boltzmann law scales with the temperature to the **fourth power**.  Comparing the actual versus expected temperature using the Stefan-Boltzmann Law, we get\n",
    "\n",
    "\\begin{align}\n",
    "\\left(\\frac{T_{\\rm actual}}{T_{\\rm expected}}\\right)^4 = \\left(\\frac{124\\ {\\rm K}}{109\\ {\\rm K}}\\right)^4 = 1.67.\n",
    "\\end{align}\n",
    "\n",
    "This result implies that Jupiter is emitting (or radiating) roughly $2/3$ more energy into space than it absorbs from sunlight.  Neptune emits $2.6\\times$ more energy than it absorbs from the Sun.  \n",
    "\n",
    "```{note}\n",
    "The Stefan-Boltzmann Law is actually proportional to $R^2 T^4$, but the ratio compares Jupiter relative to itself under two scenarios.  This means that the $R^2$ term cancels, leaving only a temperature ratio to the fourth power.\n",
    "```\n",
    "\n",
    "Planets that emit/absorb more energy than the receive from the Sun are not in equilibrium.  In the case of the giant planets, they are slowly contracting, which generates more heat.  The internal energy escaping from Uranus is smaller than the solar energy the planet absorbs.\n"
   ]
  }
 ],
 "metadata": {
  "language_info": {
   "name": "python"
  }
 },
 "nbformat": 4,
 "nbformat_minor": 2
}
