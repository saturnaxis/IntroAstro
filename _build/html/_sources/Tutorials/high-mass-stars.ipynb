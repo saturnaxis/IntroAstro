{
 "cells": [
  {
   "cell_type": "markdown",
   "metadata": {},
   "source": [
    "# Evolution of High-mass Stars"
   ]
  },
  {
   "cell_type": "markdown",
   "metadata": {},
   "source": [
    "## Binding Energy of Atomic Nuclei\n"
   ]
  },
  {
   "cell_type": "markdown",
   "metadata": {},
   "source": [
    "## Gravity on a Neutron Star\n",
    "Neutron stars are more massive that the Sun, but have a radius of a small city (${\\sim}10-15\\ {\\rm km}$).  Hence, they are incredibly dense objects.  \n",
    "\n",
    "Let's look at the surface gravity for a typical neutron star $(M_{\\rm NS} = 2\\ M_\\odot,\\ R = 15\\ {\\rm km})$.  The surface gravity $g$ is given by\n",
    "\n",
    "\\begin{align}\n",
    "g &= \\frac{GM_{\\rm NS}}{R_{\\rm NS}^2}, \\\\\n",
    "&= \\frac{\\left(6.67\\times 10^{-11}\\ {\\rm m^3/[kg\\ s^2]}\\right)\\left(3.978 \\times 10^{30}\\ {\\rm kg}\\right)}{\\left(1.5\\times 10^4\\ {\\rm m}\\right)^2}, \\\\\n",
    "&= 1.2 \\times 10^{12} \\frac{\\rm m}{\\rm s^2}.\n",
    "\\end{align}\n",
    "\n",
    "Comparing that number to the surface gravity on Earth (${\\sim}10\\ {\\rm m/s^2}$) shows that the surface gravity on a neutron star is ${\\sim}10^{11}$ (or 100 billion) times larger.\n",
    "\n",
    "**What is the escape velocity from a neutron star?** From [4.2.2](https://saturnaxis.github.io/IntroAstro/Tutorials/gravity-and-orbits.html#escape-velocity) (and other sections), we've shown that the escape velocity can be written as\n",
    "\n",
    "\\begin{align}\n",
    "v_{\\rm esc} &= \\sqrt{\\frac{2GM}{R}}.\n",
    "\\end{align}\n",
    "\n",
    "We can write it in another form so that we can re-use our result for the surface gravity $g$.  Substituting the requisite values, we get\n",
    "\n",
    "\\begin{align}\n",
    "v_{\\rm esc} &= \\sqrt{2gR} = \\sqrt{\\left(30000\\ {\\rm m}\\right) \\times \\left(1.2 \\times 10^{12}\\ {\\rm m/s^2}\\right)},\\\\\n",
    "&= 1.9 \\times 10^8\\ {\\rm m/s}, \\\\\n",
    "&= 0.63c.\n",
    "\\end{align}\n",
    "\n",
    "The escape velocity from that neutron star is $>60\\%$ of the speed of light and almost $17,000\\times$ greater than from Earth."
   ]
  },
  {
   "cell_type": "code",
   "execution_count": 3,
   "metadata": {},
   "outputs": [
    {
     "name": "stdout",
     "output_type": "stream",
     "text": [
      "The surface gravity g of a neutron star is 1.2e+12 m/s^2.\n",
      "The escape velocity from a neturon star is: 1.9e+08 m/s or 0.63c.\n"
     ]
    }
   ],
   "source": [
    "import numpy as np\n",
    "from scipy.constants import G,c\n",
    "\n",
    "M_sun = 1.989e30 #mass of Sun in kg\n",
    "R_NS = 15e3 #radius of neutron star (km -> m)\n",
    "\n",
    "g = G*(2*M_sun)/R_NS**2\n",
    "print(\"The surface gravity g of a neutron star is %1.1e m/s^2.\" % g)\n",
    "\n",
    "v_esc = np.sqrt(2*g*R_NS)\n",
    "print(\"The escape velocity from a neturon star is: %1.1e m/s or %1.2fc.\" % (v_esc,v_esc/c))\n"
   ]
  }
 ],
 "metadata": {
  "kernelspec": {
   "display_name": "base",
   "language": "python",
   "name": "python3"
  },
  "language_info": {
   "codemirror_mode": {
    "name": "ipython",
    "version": 3
   },
   "file_extension": ".py",
   "mimetype": "text/x-python",
   "name": "python",
   "nbconvert_exporter": "python",
   "pygments_lexer": "ipython3",
   "version": "3.11.5"
  }
 },
 "nbformat": 4,
 "nbformat_minor": 2
}
