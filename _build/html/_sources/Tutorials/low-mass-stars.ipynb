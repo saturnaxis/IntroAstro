{
 "cells": [
  {
   "cell_type": "markdown",
   "metadata": {},
   "source": [
    "# Evolution of Low-mass Stars"
   ]
  },
  {
   "cell_type": "markdown",
   "metadata": {},
   "source": [
    "## Estimating Main-Sequence Lifetimes\n",
    "\n",
    "Since we know the how long the Sun should last (i.e., its lifetime $\\tau_\\odot$) from [14.1](https://saturnaxis.github.io/IntroAstro/Tutorials/sun.html#the-source-of-the-sun-s-energy), we can estimate the main sequence lifetime of other stars.  This is done by comparing the energy production rate (relative to the Sun) and mass available (compared to the Sun's mass).  This can be expressed mathematically as\n",
    "\n",
    "\\begin{align}\n",
    "\\frac{\\tau_\\star}{\\tau_\\odot} &= \\left(\\frac{M_\\star}{M_\\odot}\\right) \\times \\left(\\frac{L_\\odot}{L_\\star}\\right), \\\\\n",
    "\\tau_\\star &= \\left(\\frac{M_\\star}{M_\\odot}\\right)\\times \\left(\\frac{L_\\odot}{L_\\star}\\right) \\times 10^{10}\\ {\\rm yr}.\n",
    "\\end{align}\n",
    "\n",
    "There is also a relationship between the mass and luminosity of stars.  Since the star's mass provides the fuel for the luminosity, this should make sense.  \n",
    "\n",
    "```{note}\n",
    "The [**mass-luminosity relation**](https://en.wikipedia.org/wiki/Mass%E2%80%93luminosity_relation) is defined empirically, which means that the known values for the mass and luminosity of many stars are compared and fit to a power-law.  Depending on how the power law is constructed (i.e., how the stars are binned), the exponents may vary.\n",
    "```\n",
    "\n",
    "The mass-luminosity relationship for main-sequence (FGK) stars is given as\n",
    "\n",
    "\\begin{align}\n",
    "\\frac{L_\\star}{L_\\odot} = \\left(\\frac{M_\\star}{M_\\odot}\\right)^{3.5}.\n",
    "\\end{align}\n",
    "\n",
    "With a little algebra, we can estimate the lifetime for main-sequence (FGK) stars soley based upon their mass.  This is given as\n",
    "\n",
    "\\begin{align}\n",
    "\\tau_\\star &= \\left(\\frac{M_\\star}{M_\\odot}\\right)\\times \\left(\\frac{M_\\star}{M_\\odot}\\right)^{{-3.5}} \\times 10^{10}\\ {\\rm yr}\n",
    "= \\left(\\frac{M_\\star}{M_\\odot}\\right)^{{-2.5}} \\times 10^{10}\\ {\\rm yr}.\n",
    "\\end{align}\n",
    "\n",
    "**What is the main-sequence lifetime for a $\\rm K5$ main-sequence star?**  From our textbook, the mass of a $\\rm K5$ star is $0.67\\ M_\\odot$. We directly substitute into our above equation:\n",
    "\n",
    "\\begin{align}\n",
    "\\tau_{\\rm K5}= \\left(\\frac{1}{0.67}\\right)^{2.5} \\times 10^{10}\\ {\\rm yr} = 2.7 \\times 10^{10}\\ {\\rm yr}.\n",
    "\\end{align}\n",
    "\n",
    "A $\\rm K5$ star has a main-sequence lifetime of $27\\ {\\rm billion\\ years}$, which is $2.7\\times$ longer than the Sun's lifetime.  Even though a $\\rm K5$ starts with less fuel, it uses it more slowly and thus, lives longer.\n"
   ]
  },
  {
   "cell_type": "code",
   "execution_count": 2,
   "metadata": {},
   "outputs": [
    {
     "name": "stdout",
     "output_type": "stream",
     "text": [
      "The main-sequence lifetime of a K5 star is 2.7e+10 yr or 27 Gyr.\n"
     ]
    }
   ],
   "source": [
    "tau_sun = 1e10 #main-sequence lifetime for the Sun\n",
    "\n",
    "M_K5 = 0.67 #mass of a K5 star in Msun\n",
    "tau_K5 = M_K5**(-2.5)*tau_sun \n",
    "print(\"The main-sequence lifetime of a K5 star is %1.1e yr or %d Gyr.\" % (tau_K5,tau_K5/1e9))"
   ]
  },
  {
   "cell_type": "markdown",
   "metadata": {},
   "source": [
    "## Escaping the Surface of an Evolved Star\n",
    "\n",
    "In [Chapter 4](https://saturnaxis.github.io/IntroAstro/Tutorials/gravity-and-orbits.html#escape-velocity) and [Chapter 9](https://saturnaxis.github.io/IntroAstro/Tutorials/terrestrial-atmospheres.html), we discussed ways for atoms (or rockets) to escape the gravity of a planet.  Recall that the escape velocity from the surface of body is\n",
    "\n",
    "\\begin{align}\n",
    "v_{\\rm esc} = \\sqrt{\\frac{2GM}{R}},\n",
    "\\end{align}\n",
    "\n",
    "where $M$ is the mass of the body and $R$ is the radius of the body.\n",
    "\n",
    "At the end of a star's lifetime, it can become a red giant, where the stellar atmosphere swells to many times its size on the main-sequence.  Let's first calculate the escape velocity of the Sun on the main-sequence $v_{\\odot,\\ \\rm esc}^{\\rm MS}$ as,\n",
    "\n",
    "\\begin{align}\n",
    "v_{\\odot,\\ \\rm esc}^{\\rm MS} &= \\sqrt{\\frac{2GM_\\odot}{R_\\odot}}, \\\\\n",
    "&= \\sqrt{\\frac{2\\times \\left[6.67\\times 10^{-11}\\ {\\rm m^3/(kg\\ s^2)}\\right] \\times(1.989 \\times 10^{30}\\ {\\rm kg})}{6.96 \\times 10^8\\ {\\rm m}}}, \\\\\n",
    "&= 6.17 \\times 10^5\\ {\\rm m/s} = 617\\ {\\rm km/s}.\n",
    "\\end{align}\n",
    "\n",
    "This is about $56\\times$ the escape velocity for the Earth!\n",
    "\n",
    "**What will the escape velocity be when the Sun becomes a red giant ($R=50\\ R_\\odot,\\ M=0.9\\ M_\\odot$)?**  We can now write the escape velocity equation relative to the Sun so that we can compare with other stars, as well as when the Sun becomes a red giant.  Using ratios, we have\n",
    "\n",
    "\\begin{align}\n",
    "\\left(\\frac{v}{v^{\\rm MS}_\\odot}\\right)_{\\rm esc} = \\sqrt{\\left(\\frac{M}{M_\\odot}\\right)\\times \\left(\\frac{R_\\odot}{R}\\right)},\n",
    "\\end{align}\n",
    "\n",
    "where this is similar (in form) to when we compared the circular velocities in [4.2](https://saturnaxis.github.io/IntroAstro/Tutorials/gravity-and-orbits.html#circular-and-escape-velocity).  Substituting the values for the Sun as a red giant into the above equation, we get\n",
    "\n",
    "\\begin{align}\n",
    "\\left(\\frac{v}{v^{\\rm MS}_\\odot}\\right)_{\\rm esc} &= \\sqrt{\\left(0.9\\right)\\times \\left(\\frac{1}{50}\\right)} = 0.13, \\\\\n",
    "v_{\\rm esc} &=0.13\\ v_{\\odot,\\ \\rm esc}^{\\rm MS}, \\\\\n",
    "& = 83\\ {\\rm km/s}.\n",
    "\\end{align}\n",
    "\n",
    "The escape velocity from the red giant's surface is only $13\\%$ of when it was a main-sequence star.  That is part of the reason that red giant and AGB stars lose mass.  The Sun may eventually lose $50\\%$ of its mass."
   ]
  },
  {
   "cell_type": "code",
   "execution_count": 13,
   "metadata": {},
   "outputs": [
    {
     "name": "stdout",
     "output_type": "stream",
     "text": [
      "The escape velocity of the Sun on the main sequence is: 6.176e+05 m/s or 617 km/s.\n",
      "------\n",
      "The escape velocity is 13 percent of the main-sequence value or 83 km/s.\n"
     ]
    }
   ],
   "source": [
    "import numpy as np\n",
    "from scipy.constants import G\n",
    "\n",
    "M_sun = 1.989e30 #mass of the Sun in kg\n",
    "R_sun = 6.96e8 #radius of the Sun in m\n",
    "\n",
    "v_esc_MS = np.sqrt(2*G*M_sun/R_sun)\n",
    "print(\"The escape velocity of the Sun on the main sequence is: %1.3e m/s or %3d km/s.\" % (v_esc_MS,v_esc_MS/1e3))\n",
    "print(\"------\")\n",
    "\n",
    "M_RG = 0.9 #mass of red giant in Msun\n",
    "R_RG = 50 # radius of red giant in Rsun\n",
    "v_esc_RG = np.sqrt(M_RG/R_RG)\n",
    "print(\"The escape velocity is %2d percent of the main-sequence value or %2i km/s.\" % (v_esc_RG*100,np.round(v_esc_RG*v_esc_MS/1e3,0)))"
   ]
  }
 ],
 "metadata": {
  "kernelspec": {
   "display_name": "base",
   "language": "python",
   "name": "python3"
  },
  "language_info": {
   "codemirror_mode": {
    "name": "ipython",
    "version": 3
   },
   "file_extension": ".py",
   "mimetype": "text/x-python",
   "name": "python",
   "nbconvert_exporter": "python",
   "pygments_lexer": "ipython3",
   "version": "3.11.5"
  }
 },
 "nbformat": 4,
 "nbformat_minor": 2
}
