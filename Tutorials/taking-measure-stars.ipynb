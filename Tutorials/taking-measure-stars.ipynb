{
 "cells": [
  {
   "cell_type": "markdown",
   "metadata": {},
   "source": [
    "# Taking Measure of the Stars"
   ]
  },
  {
   "cell_type": "markdown",
   "metadata": {},
   "source": [
    "## Parallax and Distance\n",
    "\n",
    "A star's [parallax](https://en.wikipedia.org/wiki/Stellar_parallax) is a measure of how much (in angle) it moves on the sky relative to a baseline distance.  For stars, we typically use the distance from the Earth to the Sun ($1\\ {\\rm AU}$) as the baseline.  Thus, we define the parallax angle $p$ as:\n",
    "\n",
    "$$ \\tan{p} = \\frac{\\text{baseline distance}}{\\text{distance to star}} = \\frac{b}{d}.$$\n",
    "\n",
    "Stars are really far away and typically have very small movements on the sky, where the closest stars move only ${\\sim}0.768$ arcseconds (or $\\rm arcsec$).  Using the Earth's orbit as a baseline and simplifying for small angles, we get\n",
    "\n",
    "\\begin{align}\n",
    "p \\propto \\frac{1}{d}.\n",
    "\\end{align}\n",
    "\n",
    "The parallax angle $p$ must be measured in arcseconds, which makes the proportion an equality and gives us a distance in **parsec** $(\\text{pc})$.  A parsec can be converted into a **light-year** $({\\rm ly})$ through the conversion factor: $1\\ {\\rm pc} = 3.26\\ {\\rm ly}$.\n",
    "\n",
    "After the Sun, the next-closest star to the Earth is [Proxima Centauri](https://en.wikipedia.org/wiki/Proxima_Centauri).  Proxima is a faint member of the triple-star system Alpha Centauri (only confirmed as a member in 2016).  Due to New Horizon's, we have an impressively measured parallax of $0.7685$ arcseconds.  **How far away is Proxima Centauri (in ly)?**\n",
    "\n",
    "We have to do two (fairly light) calculations.  First, we need to determine the distance in parsecs because our measurement is in arcseconds.  This can be shown as,\n",
    "\n",
    "\\begin{align}\n",
    "d = \\frac{1}{p({\\rm arcsec})} = \\frac{1}{0.7685} = 1.301\\ {\\rm pc}.\n",
    "\\end{align}\n",
    "\n",
    "Next, we need to convert the distance in $\\rm pc$ to a distance in $\\rm ly$.  So, we apply the conversion factor by,\n",
    "\n",
    "\\begin{align}\n",
    "\\frac{1.301\\ {\\rm pc}}{1} \\times \\frac{3.26\\ {\\rm ly}}{1\\ {\\rm pc}} = 4.24\\ {\\rm ly}.\n",
    "\\end{align}\n",
    "\n",
    "Proxima is $4.24\\ {\\rm ly}$ away from the Earth.  Given that $1\\ {\\rm AU}$ is small compared to a light-year, it doesn't matter if we say its that distance from the Earth or the Sun.\n",
    "\n",
    "```{note}\n",
    "Recall that 1 degree on the sky is about the width of your pinky finger at arm's length. A single arcminute is $1/60$ of a degree, and an arcsecond is $1/60$ of an arcminute.  This means that an arcescond is $1/3600$ (or $0.0027\\%$) of the width of your pinky.  The movement of the closest star due to parallax is smaller than that.  It's no wonder that the ancients were believed in geocentrism for so long, since stellar parallax couldn't be measured.\n",
    "```"
   ]
  },
  {
   "cell_type": "code",
   "execution_count": 3,
   "metadata": {},
   "outputs": [
    {
     "name": "stdout",
     "output_type": "stream",
     "text": [
      "The distance to Proxmia Centauri is 1.301 pc.\n",
      "The distance to Proxima Centauri is 4.24 ly.\n"
     ]
    }
   ],
   "source": [
    "pc2ly = 3.26 #light-years in a parsec\n",
    "\n",
    "p_ProxCen = 0.7685 #parallax angle for Prox Cen in arcsec\n",
    "\n",
    "d = 1./p_ProxCen\n",
    "print(\"The distance to Proxmia Centauri is %1.3f pc.\" % d)\n",
    "d *= pc2ly\n",
    "print(\"The distance to Proxima Centauri is %1.2f ly.\" % d)"
   ]
  },
  {
   "cell_type": "markdown",
   "metadata": {},
   "source": [
    "## The Magnitude System\n",
    "\n",
    "The [apparent magnitude](https://en.wikipedia.org/wiki/Apparent_magnitude) for celestial objects (or how bright a object looks) was developed by Hipparchus.  But it was adjusted and standardized by 1856.\n",
    "\n",
    "Astronomers defined 1st magnitude (or $m=1$) stars to be exactly $100\\times$ brigther than 6th magnitude (or $m=6$) stars.  The system is extended to stars brighter than 1st magnitude by using the negative numbers and fainter than 6th magnitude by increasingly positive numbers.  To find how much brighter (or fainter) as star is, you must follow this relation,\n",
    "\n",
    "\\begin{align}\n",
    "B = 2.512^{(m_1-m_2)},\n",
    "\\end{align}\n",
    "\n",
    "where $m_1$ and $m_2$ are the apparent magnitudes of the two objects. Let's check to see how much brighter a 6th magnitude star is compared to a 1st magnitude.\n",
    "\n",
    "$$B = 2.512^{(6-1)} = 2.512^5 \\approx 100. $$\n",
    "\n",
    "Here are some rules of thumb for the magnitude system:\n",
    "\n",
    "1. Smaller (or more negative) numbers represent bright objects; The Sun's apparent magnitude $m_{\\rm Sun} = -26.7$.\n",
    "2. Fainter (or more positive) numbers represent faint objects; The apparent magnitude of M81, $m_{\\rm M81} = 6.94$.\n",
    "3. Magnitudes measure brightness as factors of $2.512$.\n",
    "\n",
    "**Sirius is one of the brightest star's in the Northern night sky, with an apparent magnitude of $-1.46$.  Many people (mistakenly) believe Polaris is one of the brightest stars, where its apparent magnitude is about $2.00$.  How much brighter is Sirius than Polaris?**\n",
    "\n",
    "We need to find the difference in magnitudes between the two stars.  Recall that the distance between a positive and negative number is the sum of their difference from zero.  We can incorporate this into our equation as,\n",
    "\n",
    "\\begin{align}\n",
    "B = 2.512^{[2-(-1.46)]} = 2.512^{3.46} = 24.2.\n",
    "\\end{align}\n",
    "\n",
    "This means that Sirius is about $24.2\\times$ brighter than Polaris.\n",
    "\n"
   ]
  },
  {
   "cell_type": "code",
   "execution_count": null,
   "metadata": {},
   "outputs": [
    {
     "name": "stdout",
     "output_type": "stream",
     "text": [
      "Sirius is 24.2 times brigther than Polaris.\n"
     ]
    }
   ],
   "source": [
    "m_Polaris = 2.00\n",
    "m_Sirius = -1.46\n",
    "\n",
    "B = 2.512**(m_Polaris-m_Sirius)\n",
    "print(\"Sirius is %2.1f times brighter than Polaris.\" % B)"
   ]
  },
  {
   "cell_type": "markdown",
   "metadata": {},
   "source": [
    "## Estimating the Sizes of Stars\n",
    "\n",
    "The Stefan-Boltzmann law relates the amount of energy radiated each second **by each square meter** of a star's surface to the star's surface temperature.  Star's are mostly spherical, so we can write this as,\n",
    "\n",
    "\\begin{align}\n",
    "\\frac{L}{4\\pi R^2} &= \\sigma T^4,\\\\\n",
    "L &= (4\\pi \\sigma)R^2 T^4.\n",
    "\\end{align}\n",
    "\n",
    "A star's luminosity $L$ defines how much energy is radiated per second ($W$), where we've used the surface area of a sphere ($A = 4\\pi R^2$).  The constant $\\sigma$ was determined empirically in the early 20th century and is known as the [Boltzmann constant](https://en.wikipedia.org/wiki/Boltzmann_constant).\n",
    "\n",
    "We typically want to know stellar properties (i.e., surface temperature, radius, and luminosity) relative to the Sun, so we can rewrite the above relation as\n",
    "\n",
    "\\begin{align}\n",
    "\\frac{L_\\star}{L_\\odot} &= \\left(\\frac{R_\\star}{R_\\odot} \\right)^2 \\left(\\frac{T_\\star}{T_\\odot}\\right)^4,\\\\\n",
    "L_\\star &=  \\left(\\frac{R_\\star}{R_\\odot} \\right)^2 \\left(\\frac{T_\\star}{T_\\odot}\\right)^4\\ L_\\odot.\n",
    "\\end{align}\n",
    "\n",
    "where the constants $4\\pi \\sigma$ cancel out.  The subscript $\\star$ denotes the quantities for the star in question while the subscript $\\odot$ designates quantities for the Sun.  Note that we can use $L_\\odot$ as a unit, just as we would use $m$ for meter.\n",
    "\n",
    "**How large must a star of a given temperature $T$ to have a luminosity $L$?**  For nearby stars, we can easily determine their luminosity because we know their distance from stellar **parallax**.  Moreover, we can determine their surface temperature from the star's blackbody curve and applying [Wein's Law](https://en.wikipedia.org/wiki/Wien%27s_displacement_law).  Note that we can estimate the surface temperature from the star's color as well.  Therefore, the stellar luminosity $L$ and temperature $T$ are measurable quantities.  What we don't know is $R$ the stellar radius (relative to the Sun).\n",
    "\n",
    "With a little algebra, we can rewrite the above relation as:\n",
    "\n",
    "\\begin{align}\n",
    "\\frac{R_\\star}{R_\\odot} &= \\sqrt{\\left(\\frac{L_\\star}{L_\\odot}\\right) \\left(\\frac{T_\\odot}{T_\\star}\\right)^4}, \\\\\n",
    "\\frac{R_\\star}{R_\\odot} &= \\sqrt{\\frac{L_\\star}{L_\\odot}} \\left(\\frac{T_\\odot}{T_\\star}\\right)^2.\n",
    "\\end{align}\n",
    "\n",
    "**How does the Sun compare with [Sirius](https://en.wikipedia.org/wiki/Sirius) (in Canis Major)?**  From its spectrum, we know that Sirius' surface temperature is $9845\\ {\\rm K}$, where the Sun's surface temperature is $5777\\ {\\rm K}$.  Sirius is only $8.6\\ {\\rm ly}$ away, which allows us to determine its luminosity as $24.7\\ L_\\odot$.  From this information, we can determine the relative size of Sirius by\n",
    "\n",
    "\\begin{align}\n",
    "\\frac{R_{\\rm Sirius}}{R_\\odot} &= \\sqrt{\\frac{L_{\\rm Sirius}}{L_\\odot}} \\left(\\frac{T_\\odot}{T_{\\rm Sirius}}\\right)^2,\\\\\n",
    "\\frac{R_{\\rm Sirius}}{R_\\odot} &= \\sqrt{24.7}\\times \\left(\\frac{5777\\ {\\rm K}}{9845\\ {\\rm K}}\\right)^2, \\\\\n",
    "R_{\\rm Sirius} &= 1.71\\ R_\\odot.\n",
    "\\end{align}\n",
    "\n",
    "Comparing to the true value ($R_{\\rm Sirius} = 1.713\\ R_\\odot$) in [Davis et al. (2010)](https://www.cambridge.org/core/journals/publications-of-the-astronomical-society-of-australia/article/angular-diameter-and-fundamental-parameters-of-sirius-a/701CF9E435ADDD2356ED00702B18E84A), we find that our calculation is pretty accurate.\n",
    "\n",
    "```{note}\n",
    "We may have naively assumed that since Sirius is $24.7\\times$ brighter it must also be $24.7\\times$ bigger than the Sun.  This was not the case because the surface temperature is $1.7\\times$ hotter and the size of a star scales with the square root of the luminosity $(\\sqrt{24.7}=4.97)$. The values *conincidently* combine so that the values of the surface temperature and radius ratio are similar.\n"
   ]
  },
  {
   "cell_type": "code",
   "execution_count": 4,
   "metadata": {},
   "outputs": [
    {
     "name": "stdout",
     "output_type": "stream",
     "text": [
      "Sirius is about 1.71 times larger than the Sun.\n"
     ]
    }
   ],
   "source": [
    "import numpy as np\n",
    "T_sun = 5777 #surface temperature of the Sun (in K)\n",
    "T_Sirius = 9845 #surface temperature of Sirius (in K)\n",
    "L_Sirius = 24.7 #luminosity of Sirius (in L_\\odot)\n",
    "\n",
    "R_Sirius = np.sqrt(L_Sirius)*(T_sun/T_Sirius)**2\n",
    "print(\"Sirius is about %1.2f times larger than the Sun.\" % R_Sirius)"
   ]
  },
  {
   "cell_type": "markdown",
   "metadata": {},
   "source": [
    "## Measuring the Mass of an Eclipsing Binary Pair\n",
    "\n",
    "In [4.3](https://saturnaxis.github.io/IntroAstro/Tutorials/gravity-and-orbits.html#calculating-mass-from-orbital-periods), we derived Newton's version of Kepler's 3rd law.  But, we made an approximation for the case where the secondary mass is very small compared to the primary mass (i.e., $M_1 + M_2 \\approx M_1$).  For binary stars, we **cannot** use that approximation.\n",
    "\n",
    "This changes our equations to\n",
    "\n",
    "\\begin{align*}\n",
    "M_1 + M_2 = \n",
    "\\begin{cases}\n",
    "\\frac{4\\pi^2}{G} \\times \\frac{a^3}{P^2}, &\\text{(general form)} \\\\\n",
    "\\frac{a^3}{P^2}. & (\\text{units in years, AU, and } M_\\odot).\n",
    "\\end{cases}\n",
    "\\end{align*}\n",
    "\n",
    "*How do we find $M_1$ and $M_2$ separately?*  We have to make another measurement to find the mass ratio $M_1/M_2$.  With eclipsing binaries, we can use either the spectra (through Doppler shifts) or the eclipse depths (through photometry).\n",
    "\n",
    "Suppose you have the following information for an eclipsing binary from spectroscopic obsevations:\n",
    "\n",
    "1. The orbital period $P$ is $2.63\\ {\\rm years}$.\n",
    "2. The velocity of Star 1 varies between $+20.4$ and $-20.4\\ {\\rm km/s}$.\n",
    "3. The velocity of Star 2 varies between $+6.8$ and $-6.8\\ {\\rm km/s}.$\n",
    "4. Since the velocity changes are symmetric, the stars are in circular orbits.\n",
    "\n",
    "It would make our lives easier if the velocities were in $\\rm AU/yr$ instead of $\\rm km/s$.  We find that $1\\ {\\rm AU} = 1.5\\times 10^8\\ {\\rm km}$ and $1\\ {\\rm yr} = 3.16\\times 10^7\\ {\\rm s}$.  Then, we can calculate the velocity $v_1$ as\n",
    "\n",
    "\\begin{align}\n",
    "v_1 &= \\frac{20.4\\ {\\rm km}}{1\\ {\\rm s}} \\times \\frac{1\\ {\\rm AU}}{1.5\\times 10^8\\ {\\rm km}} \\times \\frac{3.16 \\times 10^7\\ {\\rm s}}{1\\ {\\rm yr}}, \\\\\n",
    "&= 4.30\\ {\\rm AU/yr}.\n",
    "\\end{align}\n",
    "\n",
    "Since the orbit is circular, this means the speed (magnitude of the velocity) is constant. As a result, we can relate the speed to the distance traveled $d$ and that result to the radius of a circle ($d=2\\pi a$).  Mathematically, we get\n",
    "\n",
    "\\begin{align}\n",
    "d_1 &= v_1 \\times P = (4.30\\ {\\rm AU/yr})\\times (2.63\\ {\\rm yr}) = 11.3\\ {\\rm AU}, \\\\\n",
    "a_1 &= \\frac{d_1}{2\\pi} = 1.80\\ {\\rm AU}.\n",
    "\\end{align}\n",
    "\n",
    "```{note}\n",
    "The stars are orbiting the center of mass, where each star will have its own semimajor axis $a$.  If these can be determine individually, then $a_1 + a_2 = a_{\\rm bin}$, where $a_{\\rm bin}$ is the semimajor axis of one star orbiting another.\n",
    "```\n",
    "\n",
    "We can perform a similar analysis to find that $a_2 = 0.60\\ {\\rm AU}$ for the second star.  Therefore, the semimajor axis of the binary: $a_{\\rm bin} = 1.8 + 0.6 = 2.40\\ {\\rm AU}$.\n",
    "\n",
    "Now we can use our version of Kepler's 3rd law to determine the total mass ($M_1+M_2$) by,\n",
    "\n",
    "\\begin{align}\n",
    "M_1 + M_2 &= \\frac{(2.4\\ {\\rm AU})^3}{(2.63\\ {\\rm yr})^2} = 2.00\\ M_\\odot, \\\\\n",
    "M_1\\left(1 + \\frac{M_2}{M_1}\\right) &= 2.00 M_\\odot.\n",
    "\\end{align}\n",
    "\n",
    "The second line above is rewritten to emphasize that if we can determine the ratio $M_2/M_1$, then we can easily determin $M_1$ and then $M_2$ using the first line.\n",
    "\n",
    "A consequence of Kepler's 2nd law allows us to relate the mass ratio to a ratio of the speeds.  This is written as\n",
    "\n",
    "\\begin{align}\n",
    "\\frac{M_2}{M_1} = \\frac{v_1}{v_2} = \\frac{20.4\\ {\\rm km/s}}{6.8\\ {\\rm km/s}} = 3.0,\n",
    "\\end{align}\n",
    "\n",
    "which means that Star 2 is $3\\times$ more massive than Star 1 ($M_2 = 3M_1$).  Thus, we have by subsitution\n",
    "\n",
    "\\begin{align}\n",
    "M_1\\left(1 + \\frac{M_2}{M_1}\\right) &= 4M_1 = 2.0\\ M_\\odot, \\\\\n",
    "M_1 &= 0.5\\ M_\\odot, \\\\\n",
    "M_2 &= 1.5\\ M_\\odot.\n",
    "\\end{align}\n",
    "\n",
    "Star 1 has a mass of $0.5\\ M_\\odot$ and Star 2 has a mass of $1.5\\ M_\\odot$.  You have just found the masses of two distant stars."
   ]
  },
  {
   "cell_type": "code",
   "execution_count": 6,
   "metadata": {},
   "outputs": [
    {
     "name": "stdout",
     "output_type": "stream",
     "text": [
      "The semimajor axis of the binary is 2.40 AU.\n",
      "The combined mass of the stars is 2 M_sun.\n",
      "The mass of Star 1 is 0.5 M_sun and the mass of Star 2 is 1.5 M_sun.\n"
     ]
    }
   ],
   "source": [
    "import numpy as np\n",
    "AU2km = 1.5e8 #kilometers in an AU\n",
    "yr2sec = 3.16e7 #seconds in a year\n",
    "\n",
    "P_bin = 2.63 #period of the binary in years\n",
    "\n",
    "s_1 = 20.4 #speed of Star 1 (in km/s)\n",
    "s_2 = 6.8 #speed of Star 2 (in km/s)\n",
    "\n",
    "d_1 = (s_1*yr2sec/AU2km)*P_bin#distance traveled by Star 1 (in AU) in time P\n",
    "a_1 = d_1/(2*np.pi)\n",
    "d_2 = (s_2*yr2sec/AU2km)*P_bin#distance traveled by Star 2 (in AU) in time P\n",
    "a_2 = d_2/(2*np.pi)\n",
    "\n",
    "a_bin = a_1+a_2\n",
    "print(\"The semimajor axis of the binary is %1.2f AU.\" % a_bin)\n",
    "\n",
    "M_tot = a_bin**3/P_bin**2 #total mass of the binary in Msun\n",
    "print(\"The combined mass of the stars is %1.2g M_sun.\" % M_tot)\n",
    "\n",
    "mass_ratio = s_1/s_2 #mass ratio M_2/M_1 of the binary\n",
    "M_1 = M_tot/(1+mass_ratio) #Mass of Star 1 in M_sun\n",
    "M_2 = M_tot - M_1 # Mass of Star 2 in M_sun\n",
    "print(\"The mass of Star 1 is %1.1f M_sun and the mass of Star 2 is %1.1f M_sun.\" % (M_1,M_2))\n"
   ]
  }
 ],
 "metadata": {
  "kernelspec": {
   "display_name": "base",
   "language": "python",
   "name": "python3"
  },
  "language_info": {
   "codemirror_mode": {
    "name": "ipython",
    "version": 3
   },
   "file_extension": ".py",
   "mimetype": "text/x-python",
   "name": "python",
   "nbconvert_exporter": "python",
   "pygments_lexer": "ipython3",
   "version": "3.11.5"
  }
 },
 "nbformat": 4,
 "nbformat_minor": 2
}
