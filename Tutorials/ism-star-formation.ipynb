{
 "cells": [
  {
   "cell_type": "markdown",
   "metadata": {},
   "source": [
    "# Star Formation & the ISM"
   ]
  },
  {
   "cell_type": "markdown",
   "metadata": {},
   "source": [
    "## Dust Glows in the IR\n",
    "\n",
    "Using Wien's law (see [5.3.2](https://saturnaxis.github.io/IntroAstro/Tutorials/light.html#wien-s-law)) we can measure the temperature of an object from its spectrum, including dust.  Wien's law relates an objects tempearture to the peak wavelength $(\\lambda_{\\rm peak})$ of its blackbody curve.\n",
    "\n",
    "For **warm dust** at a temperature of $100\\ {\\rm K}$:\n",
    "\n",
    "\\begin{align}\n",
    "\\lambda_{\\rm peak} = \\frac{2.9\\times 10^6\\ {\\rm nm \\cdot K}}{100\\ {\\rm K}} = 29,000\\ {\\rm nm} = 29\\ {\\rm \\mu m},\n",
    "\\end{align}\n",
    "\n",
    "which lies in the infrared.  The red part of the spectrum ends at about $700\\ {\\rm nm}$, where wavelengths $\\gtrsim 700\\ {\\rm nm}$ up to $1\\ {\\rm mm}\\ (\\text{or } 10^6\\ {\\rm nm})$ define the IR portion of the spectrum.\n",
    "\n",
    "For **cooler dust**, at $10\\ {\\rm K}$:\n",
    "\n",
    "\\begin{align}\n",
    "\\lambda_{\\rm peak} = \\frac{2.9\\times 10^6\\ {\\rm nm \\cdot K}}{10\\ {\\rm K}} = 290,000\\ {\\rm nm} = 290\\ {\\rm \\mu m},\n",
    "\\end{align}\n",
    "\n",
    "the peak wavelength still lies in the infrared.\n",
    "\n",
    "*The temperature and the peak wavelength are inversely proportional.*  If the temperature decreases, the peak wavelength increases.  We see that for the cooler dust that is common for the ISM, the peak wavelength is in the far-IR region of the EM spectrum."
   ]
  },
  {
   "cell_type": "code",
   "execution_count": 2,
   "metadata": {},
   "outputs": [
    {
     "name": "stdout",
     "output_type": "stream",
     "text": [
      "The peak wavelength for warm dust is 2.9e+04 nm or 29 um.\n",
      "The peak wavelength for cool dust is 2.9e+05 nm or 290 um.\n"
     ]
    }
   ],
   "source": [
    "def Weins_law_temp(T):\n",
    "    #temp in K\n",
    "    return 2.9e6/T\n",
    "\n",
    "#For warm dust at 100 K\n",
    "lamb_peak = Weins_law_temp(100)\n",
    "print(\"The peak wavelength for warm dust is %1.1e nm or %d um.\" % (lamb_peak,lamb_peak/1e3))\n",
    "#For cool dust at 10 K\n",
    "lamb_peak = Weins_law_temp(10)\n",
    "print(\"The peak wavelength for cool dust is %1.1e nm or %d um.\" % (lamb_peak,lamb_peak/1e3))"
   ]
  },
  {
   "cell_type": "markdown",
   "metadata": {},
   "source": [
    "## Properties of Protostars\n",
    "\n",
    "A star's luminosity depends on the radius and surface temperature of a star.  We can compare the luminosity of the Sun with a protostar through the ratio of this relationship to get,\n",
    "\n",
    "\\begin{align}\n",
    "\\frac{L_{\\rm proto}}{L_\\odot} = \\left(\\frac{R_{\\rm proto}}{R_\\odot}\\right)^2 \\left(\\frac{T_{\\rm proto}}{T_\\odot}\\right)^4,\n",
    "\\end{align}\n",
    "\n",
    "where the subscript $\\rm proto$ refers to the protostar and $\\odot$ refers to the Sun.  See [5.3.1](https://saturnaxis.github.io/IntroAstro/Tutorials/light.html#stefan-boltzmann-law) or [13.3](https://saturnaxis.github.io/IntroAstro/Tutorials/taking-measure-stars.html#estimating-the-sizes-of-stars) for review of the symbols ($L$, $R$, or $T$).\n",
    "\n",
    "Suppose that when the Sun was a protostar, the protostar's radius is $10\\times$ that of the Sun now (or $R_{\\rm proto} = 10\\ R_\\odot$) and has a surface temperature of $3300\\ {\\rm K}$.  **What would its luminosity have been?**\n",
    "\n",
    "We can apply our formula directly.  We find that,\n",
    "\n",
    "\\begin{align}\n",
    "\\frac{L_{\\rm proto}}{L_\\odot} = \\left(\\frac{10\\ R_\\odot}{1\\ R_\\odot}\\right)^2 \\left(\\frac{3300\\ {\\rm K}}{5777\\ {\\rm K}}\\right)^4 = 10.6.\n",
    "\\end{align}\n",
    "\n",
    "The Sun was ${\\sim}10.6\\times$ more luminous as a protstar than it is now.  From the H-R diagram of protostars, as a $1\\ M_\\odot$ star approaches the main sequence, it moves down (toward lower luminosity) and to the left (toward higher surface temperature)."
   ]
  },
  {
   "cell_type": "code",
   "execution_count": 6,
   "metadata": {},
   "outputs": [
    {
     "name": "stdout",
     "output_type": "stream",
     "text": [
      "The protostar is 10.6 times brighter than the Sun.\n"
     ]
    }
   ],
   "source": [
    "T_sun = 5777 #average surface temperature of the Sun in K\n",
    "T_proto = 3300 #surface temperature of the protostar\n",
    "R_proto = 10 #radius of the protostar in solar radii\n",
    "\n",
    "L_ratio = R_proto**2*(T_proto/T_sun)**4\n",
    "print(\"The protostar is %2.1f times brighter than the Sun.\" % L_ratio)"
   ]
  }
 ],
 "metadata": {
  "kernelspec": {
   "display_name": "base",
   "language": "python",
   "name": "python3"
  },
  "language_info": {
   "codemirror_mode": {
    "name": "ipython",
    "version": 3
   },
   "file_extension": ".py",
   "mimetype": "text/x-python",
   "name": "python",
   "nbconvert_exporter": "python",
   "pygments_lexer": "ipython3",
   "version": "3.11.5"
  }
 },
 "nbformat": 4,
 "nbformat_minor": 2
}
